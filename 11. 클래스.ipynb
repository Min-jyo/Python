{
 "cells": [
  {
   "cell_type": "code",
   "execution_count": 141,
   "metadata": {},
   "outputs": [],
   "source": [
    "class Shop:\n",
    "    description = 'Python Shop Class'\n",
    "    \n",
    "    def __init__(self, name, shop_type, address):\n",
    "        # 초기값 설정\n",
    "        self.name = name\n",
    "        self.__shop_type = shop_type\n",
    "        self.address = address\n",
    "        \n",
    "    # 여기에 작성\n",
    "    def show_info(self):\n",
    "        # 메서드의 동작을 구현\n",
    "        # self에는 메서드를 호출한 인스턴스 객체가 전달된다\n",
    "        # lotteria.show_info() 로 사용한 경우,\n",
    "        #  self에는 lotteria변수가 참조하는 객체가 전달\n",
    "        # 줄바꿈: \\n\n",
    "        print(f'상점 ({self.name})\\n'\n",
    "              f'  유형: {self.__shop_type}\\n'\n",
    "              f'  주소: {self.address}')\n",
    "    \n",
    "    def change_type(self, shop_type):\n",
    "        self.__shop_type = shop_type"
   ]
  },
  {
   "cell_type": "code",
   "execution_count": 142,
   "metadata": {},
   "outputs": [],
   "source": [
    "lotteria = Shop('롯데리아', '패스트푸드', '강남구')\n",
    "cu = Shop('CU', '편의점', '서초구')\n",
    "paik = Shop('빽다방', '카페', '학원건물')"
   ]
  },
  {
   "cell_type": "code",
   "execution_count": 146,
   "metadata": {},
   "outputs": [
    {
     "name": "stdout",
     "output_type": "stream",
     "text": [
      "상점 (롯데리아)\n",
      "  유형: 패스트푸드\n",
      "  주소: 강남구\n"
     ]
    }
   ],
   "source": [
    "lotteria.show_info()"
   ]
  },
  {
   "cell_type": "code",
   "execution_count": 149,
   "metadata": {},
   "outputs": [
    {
     "name": "stdout",
     "output_type": "stream",
     "text": [
      "상점 (롯데리아)\n",
      "  유형: 레스토랑\n",
      "  주소: 강남구\n"
     ]
    }
   ],
   "source": [
    "lotteria.change_type('레스토랑')\n",
    "lotteria.show_info()"
   ]
  },
  {
   "cell_type": "code",
   "execution_count": 151,
   "metadata": {},
   "outputs": [
    {
     "name": "stdout",
     "output_type": "stream",
     "text": [
      "상점 (롯데리아)\n",
      "  유형: 레스토랑\n",
      "  주소: 강남구\n"
     ]
    }
   ],
   "source": [
    "lotteria.__shop_type = 'PC방'\n",
    "lotteria.show_info()"
   ]
  },
  {
   "cell_type": "code",
   "execution_count": 154,
   "metadata": {},
   "outputs": [
    {
     "data": {
      "text/plain": [
       "'PC방'"
      ]
     },
     "execution_count": 154,
     "metadata": {},
     "output_type": "execute_result"
    }
   ],
   "source": [
    "lotteria.__shop_type"
   ]
  },
  {
   "cell_type": "code",
   "execution_count": 160,
   "metadata": {},
   "outputs": [],
   "source": [
    "lotteria._Shop__shop_type = 'PC방'"
   ]
  },
  {
   "cell_type": "code",
   "execution_count": 161,
   "metadata": {},
   "outputs": [
    {
     "name": "stdout",
     "output_type": "stream",
     "text": [
      "상점 (롯데리아)\n",
      "  유형: PC방\n",
      "  주소: 강남구\n"
     ]
    }
   ],
   "source": [
    "lotteria.show_info()"
   ]
  },
  {
   "cell_type": "markdown",
   "metadata": {},
   "source": [
    "## 속성 접근 지정자\n",
    "- private\n",
    "  - __로 시작하는 속성\n",
    "- protected\n",
    "  - _로 시작하는 속성\n",
    "- public\n",
    "  - 그 외 모든 경우"
   ]
  },
  {
   "cell_type": "code",
   "execution_count": 232,
   "metadata": {},
   "outputs": [],
   "source": [
    "# getter/setter, property\n",
    "class Shop1:\n",
    "    description = 'Python Shop Class'\n",
    "    \n",
    "    def __init__(self, name, shop_type, address):\n",
    "        self.name = name\n",
    "        self.__shop_type = shop_type\n",
    "        self.address = address\n",
    "    \n",
    "    @property\n",
    "    def shop_type(self):\n",
    "        return self.__shop_type\n",
    "    \n",
    "    @shop_type.setter\n",
    "    def shop_type(self, new_type):\n",
    "        if not new_type in ('편의점', '레스토랑'):\n",
    "            raise TypeError('편의점이나 레스토랑만 허용됩니다')\n",
    "        self.__shop_type = new_type"
   ]
  },
  {
   "cell_type": "code",
   "execution_count": 233,
   "metadata": {},
   "outputs": [
    {
     "data": {
      "text/plain": [
       "'편의점'"
      ]
     },
     "execution_count": 233,
     "metadata": {},
     "output_type": "execute_result"
    }
   ],
   "source": [
    "cu = Shop1('CU', '편의점', '성수역')\n",
    "cu.shop_type"
   ]
  },
  {
   "cell_type": "code",
   "execution_count": 234,
   "metadata": {},
   "outputs": [],
   "source": [
    "# getter/setter, property\n",
    "class Shop2:\n",
    "    description = 'Python Shop Class'\n",
    "    \n",
    "    def __init__(self, name, shop_type, address):\n",
    "        self.name = name\n",
    "        self.shop_type = shop_type\n",
    "        self.address = address"
   ]
  },
  {
   "cell_type": "code",
   "execution_count": 237,
   "metadata": {},
   "outputs": [
    {
     "data": {
      "text/plain": [
       "'PC방'"
      ]
     },
     "execution_count": 237,
     "metadata": {},
     "output_type": "execute_result"
    }
   ],
   "source": [
    "cu = Shop2('CU', '편의점', '성수역')\n",
    "cu.shop_type\n",
    "cu.shop_type = 'PC방'\n",
    "cu.shop_type"
   ]
  },
  {
   "cell_type": "markdown",
   "metadata": {},
   "source": [
    "# 상속"
   ]
  },
  {
   "cell_type": "code",
   "execution_count": 348,
   "metadata": {},
   "outputs": [],
   "source": [
    "class Shop:\n",
    "    def __init__(self, name, shop_type, address):\n",
    "        self.name = name\n",
    "        self._shop_type = shop_type\n",
    "        self.address = address\n",
    "    \n",
    "    @property\n",
    "    def shop_type(self):\n",
    "        return self._shop_type\n",
    "    \n",
    "    @shop_type.setter\n",
    "    def shop_type(self, new_type):\n",
    "        if not new_type in ('편의점', '레스토랑'):\n",
    "            raise TypeError('편의점이나 레스토랑만 허용됩니다')\n",
    "        self._shop_type = new_type\n",
    "        \n",
    "    def get_info(self):\n",
    "        return (f'{self.name}\\n'\n",
    "                f'  유형: asdf[{self._shop_type}]asdf\\n'\n",
    "                f'  주소: {self.address}')\n",
    "    \n",
    "    def show_info(self):\n",
    "        print(self.get_info())\n",
    "        \n",
    "class Restaurant(Shop):\n",
    "    def __init__(self, name, address, rating):\n",
    "        self.name = name\n",
    "        self._shop_type = '레스토랑'\n",
    "        self.address = address\n",
    "        self.rating = rating\n",
    "       \n",
    "    def get_info(self):\n",
    "        original_info = super().get_info()\n",
    "        original_info += f'\\n  평점: {self.rating}'\n",
    "        return original_info"
   ]
  },
  {
   "cell_type": "code",
   "execution_count": 349,
   "metadata": {},
   "outputs": [],
   "source": [
    "cu = Shop('CU', '편의점', '성수역')"
   ]
  },
  {
   "cell_type": "code",
   "execution_count": 350,
   "metadata": {},
   "outputs": [],
   "source": [
    "subway = Restaurant('써브웨이', '성수역', 5)"
   ]
  },
  {
   "cell_type": "code",
   "execution_count": 351,
   "metadata": {},
   "outputs": [
    {
     "name": "stdout",
     "output_type": "stream",
     "text": [
      "CU\n",
      "  유형: asdf[편의점]asdf\n",
      "  주소: 성수역\n"
     ]
    }
   ],
   "source": [
    "cu.show_info()"
   ]
  },
  {
   "cell_type": "code",
   "execution_count": 352,
   "metadata": {},
   "outputs": [
    {
     "name": "stdout",
     "output_type": "stream",
     "text": [
      "써브웨이\n",
      "  유형: asdf[레스토랑]asdf\n",
      "  주소: 성수역\n",
      "  평점: 5\n"
     ]
    }
   ],
   "source": [
    "subway.show_info()"
   ]
  },
  {
   "cell_type": "code",
   "execution_count": 347,
   "metadata": {},
   "outputs": [
    {
     "data": {
      "text/plain": [
       "'써브웨이\\n  유형: [레스토랑]\\n  주소: 성수역\\n  평점: 5'"
      ]
     },
     "execution_count": 347,
     "metadata": {},
     "output_type": "execute_result"
    }
   ],
   "source": [
    "subway.get_info()"
   ]
  },
  {
   "cell_type": "code",
   "execution_count": 387,
   "metadata": {},
   "outputs": [],
   "source": [
    "import random\n",
    "\n",
    "class Pokemon:\n",
    "    def __init__(self, name, type):\n",
    "        self.name = name\n",
    "        self.type = type\n",
    "    \n",
    "    @staticmethod\n",
    "    def electric():\n",
    "        pokemons = ('피카츄', '라이츄', '붐볼')\n",
    "        selected_pokemon = random.choice(pokemons)\n",
    "        return Pokemon(selected_pokemon, '전기')\n",
    "        \n",
    "    def __repr__(self):\n",
    "        return f'{self.name} ({self.type}타입)'"
   ]
  },
  {
   "cell_type": "code",
   "execution_count": 388,
   "metadata": {},
   "outputs": [
    {
     "data": {
      "text/plain": [
       "피카츄 (전기타입)"
      ]
     },
     "execution_count": 388,
     "metadata": {},
     "output_type": "execute_result"
    }
   ],
   "source": [
    "pikachu = Pokemon('피카츄', '전기')\n",
    "pikachu"
   ]
  },
  {
   "cell_type": "code",
   "execution_count": 389,
   "metadata": {},
   "outputs": [
    {
     "data": {
      "text/plain": [
       "라이츄 (전기타입)"
      ]
     },
     "execution_count": 389,
     "metadata": {},
     "output_type": "execute_result"
    }
   ],
   "source": [
    "pikachu.electric()"
   ]
  },
  {
   "cell_type": "code",
   "execution_count": 390,
   "metadata": {},
   "outputs": [
    {
     "data": {
      "text/plain": [
       "라이츄 (전기타입)"
      ]
     },
     "execution_count": 390,
     "metadata": {},
     "output_type": "execute_result"
    }
   ],
   "source": [
    "electric()"
   ]
  },
  {
   "cell_type": "code",
   "execution_count": 500,
   "metadata": {},
   "outputs": [],
   "source": [
    "class Shop:\n",
    "    DESCRIPTION = 'Shop class'\n",
    "    # count = 0 <- 이거 만들면 안됩니다\n",
    "    SHOP_LIST = []\n",
    "    \n",
    "    def __init__(self, name):\n",
    "        self.name = name\n",
    "        Shop.SHOP_LIST.append(self)\n",
    "        \n",
    "    def __repr__(self):\n",
    "        return f'Shop class object(name: {self.n ame})'\n",
    "    \n",
    "    @classmethod\n",
    "    def show_count(cls):\n",
    "        print(len(cls.SHOP_LIST))\n",
    "    \n",
    "    @classmethod\n",
    "    def show_info(cls):\n",
    "        result = '상점: {shop_list} (총 {shop_count}개)'.format(\n",
    "            shop_list=', '.join([shop.name for shop in cls.SHOP_LIST]),\n",
    "            shop_count=len(cls.SHOP_LIST),\n",
    "        )\n",
    "        print(result)"
   ]
  },
  {
   "cell_type": "code",
   "execution_count": 501,
   "metadata": {},
   "outputs": [],
   "source": [
    "cu = Shop('CU')\n",
    "paik = Shop('빽다방')\n",
    "subway = Shop('써브웨이')"
   ]
  },
  {
   "cell_type": "code",
   "execution_count": 506,
   "metadata": {},
   "outputs": [
    {
     "name": "stdout",
     "output_type": "stream",
     "text": [
      "3\n",
      "상점: CU, 빽다방, 써브웨이 (총 3개)\n"
     ]
    }
   ],
   "source": [
    "Shop.show_count()\n",
    "# 2\n",
    "Shop.show_info()\n",
    "# 상점: CU, 빽다방 (총 2개)"
   ]
  },
  {
   "cell_type": "code",
   "execution_count": 507,
   "metadata": {},
   "outputs": [
    {
     "data": {
      "text/plain": [
       "[Shop class object(name: CU),\n",
       " Shop class object(name: 빽다방),\n",
       " Shop class object(name: 써브웨이)]"
      ]
     },
     "execution_count": 507,
     "metadata": {},
     "output_type": "execute_result"
    }
   ],
   "source": [
    "Shop.SHOP_LIST"
   ]
  },
  {
   "cell_type": "code",
   "execution_count": 505,
   "metadata": {},
   "outputs": [
    {
     "name": "stdout",
     "output_type": "stream",
     "text": [
      "CU\n",
      "빽다방\n",
      "써브웨이\n"
     ]
    }
   ],
   "source": [
    "for shop in Shop.SHOP_LIST:\n",
    "    print(shop.name)"
   ]
  },
  {
   "cell_type": "code",
   "execution_count": 465,
   "metadata": {},
   "outputs": [
    {
     "data": {
      "text/plain": [
       "'1234'"
      ]
     },
     "execution_count": 465,
     "metadata": {},
     "output_type": "execute_result"
    }
   ],
   "source": [
    "str(1234)"
   ]
  },
  {
   "cell_type": "code",
   "execution_count": 466,
   "metadata": {},
   "outputs": [
    {
     "data": {
      "text/plain": [
       "\"['asdf', 'sef']\""
      ]
     },
     "execution_count": 466,
     "metadata": {},
     "output_type": "execute_result"
    }
   ],
   "source": [
    "str(['asdf', 'sef'])"
   ]
  },
  {
   "cell_type": "code",
   "execution_count": 472,
   "metadata": {},
   "outputs": [],
   "source": [
    "def square(value):\n",
    "    if isinstance(value, str):\n",
    "        value = int(value)\n",
    "    return value ** 2"
   ]
  },
  {
   "cell_type": "code",
   "execution_count": 473,
   "metadata": {},
   "outputs": [
    {
     "data": {
      "text/plain": [
       "25"
      ]
     },
     "execution_count": 473,
     "metadata": {},
     "output_type": "execute_result"
    }
   ],
   "source": [
    "square('5')"
   ]
  },
  {
   "cell_type": "code",
   "execution_count": 476,
   "metadata": {},
   "outputs": [],
   "source": [
    "class Dog:\n",
    "    def __init__(self, name):\n",
    "        self.name = name\n",
    "    \n",
    "    def bark(self):\n",
    "        print('멍멍')\n",
    "        \n",
    "class Cat:\n",
    "    def __init__(self, name):\n",
    "        self.name = name\n",
    "        \n",
    "    def bark(self):\n",
    "        print('야옹')"
   ]
  },
  {
   "cell_type": "code",
   "execution_count": 477,
   "metadata": {},
   "outputs": [],
   "source": [
    "def animal_sound(animal):\n",
    "    animal.bark()"
   ]
  },
  {
   "cell_type": "code",
   "execution_count": 478,
   "metadata": {},
   "outputs": [],
   "source": [
    "dog = Dog('A')\n",
    "cat = Cat('B')"
   ]
  },
  {
   "cell_type": "code",
   "execution_count": 479,
   "metadata": {},
   "outputs": [
    {
     "name": "stdout",
     "output_type": "stream",
     "text": [
      "멍멍\n"
     ]
    }
   ],
   "source": [
    "animal_sound(dog)"
   ]
  },
  {
   "cell_type": "code",
   "execution_count": 480,
   "metadata": {},
   "outputs": [
    {
     "name": "stdout",
     "output_type": "stream",
     "text": [
      "야옹\n"
     ]
    }
   ],
   "source": [
    "animal_sound(cat)"
   ]
  },
  {
   "cell_type": "code",
   "execution_count": 498,
   "metadata": {},
   "outputs": [],
   "source": [
    "class User:\n",
    "    def __init__(self, name):\n",
    "        self.name = name\n",
    "        self.power = 0\n",
    "        self.armor = 0\n",
    "\n",
    "    def equip(self, item):\n",
    "        if hasattr(item, 'power'):\n",
    "            self.power += item.power\n",
    "        if hasattr(item, 'armor'):\n",
    "            self.armor += item.armor\n",
    "    \n",
    "    def show_info(self):\n",
    "        print(f'{self.name}, power: {self.power}, armor: {self.armor}')\n",
    "\n",
    "\n",
    "class Sword:\n",
    "    def __init__(self, power):\n",
    "        self.power = power\n",
    "\n",
    "\n",
    "class Shield:\n",
    "    def __init__(self, armor):\n",
    "        self.armor = armor"
   ]
  },
  {
   "cell_type": "code",
   "execution_count": 499,
   "metadata": {},
   "outputs": [
    {
     "name": "stdout",
     "output_type": "stream",
     "text": [
      "lhy, power: 10, armor: 0\n",
      "lhy, power: 10, armor: 20\n"
     ]
    }
   ],
   "source": [
    "user = User('lhy')\n",
    "sword1 = Sword(10)\n",
    "shield1 = Shield(20)\n",
    "\n",
    "user.equip(sword1)\n",
    "user.show_info()\n",
    "# lhy, power: 10, armor: 0\n",
    "\n",
    "user.equip(shield1)\n",
    "user.show_info()\n",
    "# lhy, power: 10, armor: 20"
   ]
  },
  {
   "cell_type": "code",
   "execution_count": null,
   "metadata": {},
   "outputs": [],
   "source": []
  },
  {
   "cell_type": "code",
   "execution_count": null,
   "metadata": {},
   "outputs": [],
   "source": []
  }
 ],
 "metadata": {
  "kernelspec": {
   "display_name": "Python 3",
   "language": "python",
   "name": "python3"
  },
  "language_info": {
   "codemirror_mode": {
    "name": "ipython",
    "version": 3
   },
   "file_extension": ".py",
   "mimetype": "text/x-python",
   "name": "python",
   "nbconvert_exporter": "python",
   "pygments_lexer": "ipython3",
   "version": "3.7.5"
  }
 },
 "nbformat": 4,
 "nbformat_minor": 2
}
