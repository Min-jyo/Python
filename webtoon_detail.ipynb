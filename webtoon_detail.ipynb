{
 "cells": [
  {
   "cell_type": "code",
   "execution_count": 3,
   "metadata": {},
   "outputs": [],
   "source": [
    "from bs4 import BeautifulSoup\n",
    "\n",
    "html = open('episode_list.html', 'rt').read()\n",
    "soup = BeautifulSoup(html)"
   ]
  },
  {
   "cell_type": "code",
   "execution_count": 20,
   "metadata": {},
   "outputs": [],
   "source": [
    "div_comicinfo = soup.select_one('div.comicinfo')\n",
    "div_detail = div_comicinfo.select_one('div.detail')"
   ]
  },
  {
   "cell_type": "code",
   "execution_count": 23,
   "metadata": {},
   "outputs": [
    {
     "name": "stdout",
     "output_type": "stream",
     "text": [
      "유미의 세포들\n"
     ]
    }
   ],
   "source": [
    "h2 = div_detail.select_one('h2')\n",
    "title = h2.contents[0]\n",
    "print(title)"
   ]
  },
  {
   "cell_type": "code",
   "execution_count": 25,
   "metadata": {},
   "outputs": [
    {
     "data": {
      "text/plain": [
       "'이동건'"
      ]
     },
     "execution_count": 25,
     "metadata": {},
     "output_type": "execute_result"
    }
   ],
   "source": [
    "author = div_detail.select_one('span.wrt_nm').get_text(strip=True)\n",
    "author"
   ]
  },
  {
   "cell_type": "code",
   "execution_count": 28,
   "metadata": {},
   "outputs": [
    {
     "name": "stdout",
     "output_type": "stream",
     "text": [
      "유미는 지금 무슨 생각을 하고 있을까?\n",
      "그녀의 머릿속에서 바쁘게 움직이는 세포들 이야기!\n"
     ]
    }
   ],
   "source": [
    "description = div_detail.select_one('p.txt').get_text('\\n', strip=True)\n",
    "print(description)"
   ]
  },
  {
   "cell_type": "code",
   "execution_count": 30,
   "metadata": {},
   "outputs": [
    {
     "name": "stdout",
     "output_type": "stream",
     "text": [
      "에피소드, 일상, 개그, 로맨스\n",
      "12세 이용가\n"
     ]
    }
   ],
   "source": [
    "div_detail_info = div_detail.select_one('p.detail_info')\n",
    "genre = div_detail_info.select_one('span.genre').get_text(strip=True)\n",
    "age = div_detail_info.select_one('span.age').get_text(strip=True)\n",
    "print(genre)\n",
    "print(age)"
   ]
  },
  {
   "cell_type": "code",
   "execution_count": null,
   "metadata": {},
   "outputs": [],
   "source": [
    "# 위 로직들을 사용해서 함수를 구현\n",
    "# def get_webtoon_detail()\n",
    "#  리턴해주는 dict는\n",
    "{\n",
    "    'title': '유미의 세포들',\n",
    "    'description': '설명....',\n",
    "    'author': '이동건',\n",
    "    'genre': ['에피소드', '일상', '개그', '로맨스'],\n",
    "    'age': '12세 이용가',\n",
    "}"
   ]
  }
 ],
 "metadata": {
  "kernelspec": {
   "display_name": "Python 3",
   "language": "python",
   "name": "python3"
  },
  "language_info": {
   "codemirror_mode": {
    "name": "ipython",
    "version": 3
   },
   "file_extension": ".py",
   "mimetype": "text/x-python",
   "name": "python",
   "nbconvert_exporter": "python",
   "pygments_lexer": "ipython3",
   "version": "3.7.5"
  }
 },
 "nbformat": 4,
 "nbformat_minor": 2
}
