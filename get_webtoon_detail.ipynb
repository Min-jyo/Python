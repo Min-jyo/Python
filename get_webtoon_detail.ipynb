{
 "cells": [
  {
   "cell_type": "code",
   "execution_count": 3,
   "metadata": {},
   "outputs": [
    {
     "data": {
      "text/plain": [
       "{'title': '유미의 세포들',\n",
       " 'description': '유미는 지금 무슨 생각을 하고 있을까?\\n그녀의 머릿속에서 바쁘게 움직이는 세포들 이야기!',\n",
       " 'author': '이동건',\n",
       " 'genre': ['에피소드', '일상', '개그', '로맨스'],\n",
       " 'age': '12세 이용가'}"
      ]
     },
     "execution_count": 3,
     "metadata": {},
     "output_type": "execute_result"
    }
   ],
   "source": [
    "from bs4 import BeautifulSoup\n",
    "\n",
    "def get_webtoon_detail():\n",
    "    html = open('episode_list.html', 'rt').read()\n",
    "    soup = BeautifulSoup(html)\n",
    "    \n",
    "    div_comicinfo = soup.select_one('div.comicinfo')\n",
    "    div_detail = div_comicinfo.select_one('div.detail')\n",
    "    \n",
    "    title = div_detail.select_one('h2').contents[0]\n",
    "    author = div_detail.select_one('span.wrt_nm').get_text(strip=True)\n",
    "    description = div_detail.select_one('p.txt').get_text('\\n', strip=True)\n",
    "    \n",
    "    # genre, age\n",
    "    div_detail_info = div_detail.select_one('p.detail_info')\n",
    "    genre = div_detail_info.select_one('span.genre').get_text(strip=True)\n",
    "    age = div_detail_info.select_one('span.age').get_text(strip=True)\n",
    "    \n",
    "    # 모든 로직이 이 함수 안에 전부 존재\n",
    "    return {\n",
    "        'title': title,\n",
    "        'description': description,\n",
    "        'author': author,\n",
    "        'genre': [g.strip() for g in genre.split(',')],\n",
    "        'age': age,\n",
    "    }\n",
    "\n",
    "get_webtoon_detail()"
   ]
  },
  {
   "cell_type": "code",
   "execution_count": null,
   "metadata": {},
   "outputs": [],
   "source": []
  }
 ],
 "metadata": {
  "kernelspec": {
   "display_name": "Python 3",
   "language": "python",
   "name": "python3"
  },
  "language_info": {
   "codemirror_mode": {
    "name": "ipython",
    "version": 3
   },
   "file_extension": ".py",
   "mimetype": "text/x-python",
   "name": "python",
   "nbconvert_exporter": "python",
   "pygments_lexer": "ipython3",
   "version": "3.7.5"
  }
 },
 "nbformat": 4,
 "nbformat_minor": 2
}
