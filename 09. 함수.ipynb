{
 "cells": [
  {
   "cell_type": "code",
   "execution_count": 1,
   "metadata": {},
   "outputs": [],
   "source": [
    "def call_function():\n",
    "    print('call function!')"
   ]
  },
  {
   "cell_type": "code",
   "execution_count": 2,
   "metadata": {},
   "outputs": [
    {
     "data": {
      "text/plain": [
       "<function __main__.call_function()>"
      ]
     },
     "execution_count": 2,
     "metadata": {},
     "output_type": "execute_result"
    }
   ],
   "source": [
    "call_function"
   ]
  },
  {
   "cell_type": "code",
   "execution_count": 5,
   "metadata": {},
   "outputs": [
    {
     "name": "stdout",
     "output_type": "stream",
     "text": [
      "call function!\n"
     ]
    }
   ],
   "source": [
    "call_function()"
   ]
  },
  {
   "cell_type": "code",
   "execution_count": 6,
   "metadata": {},
   "outputs": [],
   "source": [
    "def return_true():\n",
    "    return True"
   ]
  },
  {
   "cell_type": "code",
   "execution_count": 7,
   "metadata": {},
   "outputs": [
    {
     "data": {
      "text/plain": [
       "True"
      ]
     },
     "execution_count": 7,
     "metadata": {},
     "output_type": "execute_result"
    }
   ],
   "source": [
    "return_true()"
   ]
  },
  {
   "cell_type": "code",
   "execution_count": 15,
   "metadata": {},
   "outputs": [],
   "source": [
    "# print_argument함수는 arg라는 매개변수를 가진다\n",
    "def print_argument(arg):\n",
    "    print(f'arg is {arg}')"
   ]
  },
  {
   "cell_type": "code",
   "execution_count": 16,
   "metadata": {},
   "outputs": [
    {
     "name": "stdout",
     "output_type": "stream",
     "text": [
      "arg is iii\n"
     ]
    }
   ],
   "source": [
    "# a를 print_argument함수 호출의 인자로 전달했다\n",
    "a = 'iii'\n",
    "print_argument(a)"
   ]
  },
  {
   "cell_type": "code",
   "execution_count": 17,
   "metadata": {},
   "outputs": [],
   "source": [
    "def make_student_dict(name, age, gender):\n",
    "    return {\n",
    "        'name': name,\n",
    "        'age': age,\n",
    "        'gender': gender,\n",
    "    }"
   ]
  },
  {
   "cell_type": "code",
   "execution_count": 19,
   "metadata": {},
   "outputs": [],
   "source": [
    "s1 = make_student_dict('이한영', 32, 'male')\n",
    "s2 = make_student_dict('박지혜', 26, 'female')"
   ]
  },
  {
   "cell_type": "code",
   "execution_count": 20,
   "metadata": {},
   "outputs": [
    {
     "name": "stdout",
     "output_type": "stream",
     "text": [
      "{'name': '이한영', 'age': 32, 'gender': 'male'} {'name': '박지혜', 'age': 26, 'gender': 'female'}\n"
     ]
    }
   ],
   "source": [
    "print(s1, s2)"
   ]
  },
  {
   "cell_type": "code",
   "execution_count": 36,
   "metadata": {},
   "outputs": [
    {
     "ename": "SyntaxError",
     "evalue": "positional argument follows keyword argument (<ipython-input-36-88724f4a9706>, line 9)",
     "output_type": "error",
     "traceback": [
      "\u001b[0;36m  File \u001b[0;32m\"<ipython-input-36-88724f4a9706>\"\u001b[0;36m, line \u001b[0;32m9\u001b[0m\n\u001b[0;31m    s4 = make_student_dict(name='이한영', 32, 'male')\u001b[0m\n\u001b[0m                                            ^\u001b[0m\n\u001b[0;31mSyntaxError\u001b[0m\u001b[0;31m:\u001b[0m positional argument follows keyword argument\n"
     ]
    }
   ],
   "source": [
    "# 위치인자 전달\n",
    "s1 = make_student_dict('이한영', 32, 'male')\n",
    "# 키워드인자 전달\n",
    "s2 = make_student_dict(age=32, name='이한영', gender='male')\n",
    "# 혼용\n",
    "s3 = make_student_dict('이한영', gender='male', age=32)\n",
    "\n",
    "# 키워드인자가 위치인자보다 앞에 오는 것은 허용되지않음\n",
    "# (위치인자가 몇 번째 매개변수를 지정하는지의 의미가 모호해짐)\n",
    "s4 = make_student_dict(name='이한영', 32, 'male')"
   ]
  },
  {
   "cell_type": "code",
   "execution_count": 33,
   "metadata": {},
   "outputs": [
    {
     "data": {
      "text/plain": [
       "{'name': '이한영', 'age': 32, 'gender': 'male'}"
      ]
     },
     "execution_count": 33,
     "metadata": {},
     "output_type": "execute_result"
    }
   ],
   "source": [
    "s1"
   ]
  },
  {
   "cell_type": "code",
   "execution_count": 34,
   "metadata": {},
   "outputs": [
    {
     "data": {
      "text/plain": [
       "{'name': '이한영', 'age': 32, 'gender': 'male'}"
      ]
     },
     "execution_count": 34,
     "metadata": {},
     "output_type": "execute_result"
    }
   ],
   "source": [
    "s2"
   ]
  },
  {
   "cell_type": "code",
   "execution_count": 35,
   "metadata": {},
   "outputs": [
    {
     "data": {
      "text/plain": [
       "{'name': '이한영', 'age': 32, 'gender': 'male'}"
      ]
     },
     "execution_count": 35,
     "metadata": {},
     "output_type": "execute_result"
    }
   ],
   "source": [
    "s3"
   ]
  },
  {
   "cell_type": "code",
   "execution_count": 50,
   "metadata": {},
   "outputs": [],
   "source": [
    "def make_student_dict(name, age, gender, cls='WPS'):\n",
    "    return {\n",
    "        'name': name,\n",
    "        'age': age,\n",
    "        'gender': gender,\n",
    "        'class': cls,\n",
    "    }"
   ]
  },
  {
   "cell_type": "code",
   "execution_count": 51,
   "metadata": {},
   "outputs": [],
   "source": [
    "s1 = make_student_dict(1, 2, 3)\n",
    "s2 = make_student_dict(1, 2, 3, 4)"
   ]
  },
  {
   "cell_type": "code",
   "execution_count": 43,
   "metadata": {},
   "outputs": [
    {
     "data": {
      "text/plain": [
       "{'name': 1, 'age': 2, 'gender': 3, 'class': 'WPS'}"
      ]
     },
     "execution_count": 43,
     "metadata": {},
     "output_type": "execute_result"
    }
   ],
   "source": [
    "s1"
   ]
  },
  {
   "cell_type": "code",
   "execution_count": 44,
   "metadata": {},
   "outputs": [
    {
     "data": {
      "text/plain": [
       "{'name': 1, 'age': 2, 'gender': 3, 'class': 4}"
      ]
     },
     "execution_count": 44,
     "metadata": {},
     "output_type": "execute_result"
    }
   ],
   "source": [
    "s2"
   ]
  },
  {
   "cell_type": "code",
   "execution_count": 53,
   "metadata": {},
   "outputs": [],
   "source": [
    "def return_list(value, result=[]):\n",
    "    \"\"\"\n",
    "    result매개변수가 주어지면 해당 리스트에 value를 추가해서 리턴\n",
    "    result매개변수가 주어지지 않으면 새 리스트를 만들어 value를 추가해서 리턴\n",
    "    \"\"\"\n",
    "    result.append(value)\n",
    "    return result"
   ]
  },
  {
   "cell_type": "code",
   "execution_count": 54,
   "metadata": {},
   "outputs": [
    {
     "data": {
      "text/plain": [
       "['apple']"
      ]
     },
     "execution_count": 54,
     "metadata": {},
     "output_type": "execute_result"
    }
   ],
   "source": [
    "result = return_list('apple')\n",
    "result"
   ]
  },
  {
   "cell_type": "code",
   "execution_count": 55,
   "metadata": {},
   "outputs": [
    {
     "data": {
      "text/plain": [
       "['apple', 'melon']"
      ]
     },
     "execution_count": 55,
     "metadata": {},
     "output_type": "execute_result"
    }
   ],
   "source": [
    "result2 = return_list('melon')\n",
    "result2"
   ]
  },
  {
   "cell_type": "code",
   "execution_count": 56,
   "metadata": {},
   "outputs": [
    {
     "data": {
      "text/plain": [
       "['apple', 'melon', 'banana']"
      ]
     },
     "execution_count": 56,
     "metadata": {},
     "output_type": "execute_result"
    }
   ],
   "source": [
    "result3 = return_list('banana')\n",
    "result3"
   ]
  },
  {
   "cell_type": "code",
   "execution_count": 57,
   "metadata": {},
   "outputs": [
    {
     "data": {
      "text/plain": [
       "4510903504"
      ]
     },
     "execution_count": 57,
     "metadata": {},
     "output_type": "execute_result"
    }
   ],
   "source": [
    "id(result)"
   ]
  },
  {
   "cell_type": "code",
   "execution_count": 58,
   "metadata": {},
   "outputs": [
    {
     "data": {
      "text/plain": [
       "4510903504"
      ]
     },
     "execution_count": 58,
     "metadata": {},
     "output_type": "execute_result"
    }
   ],
   "source": [
    "id(result2)"
   ]
  },
  {
   "cell_type": "code",
   "execution_count": 59,
   "metadata": {},
   "outputs": [
    {
     "data": {
      "text/plain": [
       "4510903504"
      ]
     },
     "execution_count": 59,
     "metadata": {},
     "output_type": "execute_result"
    }
   ],
   "source": [
    "id(result3)"
   ]
  },
  {
   "cell_type": "code",
   "execution_count": 60,
   "metadata": {},
   "outputs": [],
   "source": [
    "def return_list(value, result=None):\n",
    "    if result is None:\n",
    "        result = []\n",
    "    result.append(value)\n",
    "    return result"
   ]
  },
  {
   "cell_type": "code",
   "execution_count": 61,
   "metadata": {},
   "outputs": [],
   "source": [
    "result1 = return_list('apple')\n",
    "result2 = return_list('melon')"
   ]
  },
  {
   "cell_type": "code",
   "execution_count": 62,
   "metadata": {},
   "outputs": [
    {
     "data": {
      "text/plain": [
       "['apple']"
      ]
     },
     "execution_count": 62,
     "metadata": {},
     "output_type": "execute_result"
    }
   ],
   "source": [
    "result1"
   ]
  },
  {
   "cell_type": "code",
   "execution_count": 63,
   "metadata": {},
   "outputs": [
    {
     "data": {
      "text/plain": [
       "['melon']"
      ]
     },
     "execution_count": 63,
     "metadata": {},
     "output_type": "execute_result"
    }
   ],
   "source": [
    "result2"
   ]
  },
  {
   "cell_type": "code",
   "execution_count": 72,
   "metadata": {},
   "outputs": [],
   "source": [
    "def print_args(*args):\n",
    "    print(args)"
   ]
  },
  {
   "cell_type": "code",
   "execution_count": 73,
   "metadata": {},
   "outputs": [
    {
     "name": "stdout",
     "output_type": "stream",
     "text": [
      "(1, 2, 3, 4, 'a', 'b')\n"
     ]
    }
   ],
   "source": [
    "print_args(1, 2, 3, 4, 'a', 'b')"
   ]
  },
  {
   "cell_type": "code",
   "execution_count": 78,
   "metadata": {},
   "outputs": [],
   "source": [
    "def print_kwargs(**kwargs):\n",
    "    \"\"\"\n",
    "    모든 키워드인자를 출력한다\n",
    "    \n",
    "    그냥 출력만함\n",
    "    \"\"\"\n",
    "    print(kwargs)"
   ]
  },
  {
   "cell_type": "code",
   "execution_count": 79,
   "metadata": {},
   "outputs": [
    {
     "name": "stdout",
     "output_type": "stream",
     "text": [
      "{'a': 'apple', 'b': 'banana'}\n"
     ]
    }
   ],
   "source": [
    "print_kwargs(a='apple', b='banana')"
   ]
  },
  {
   "cell_type": "code",
   "execution_count": 80,
   "metadata": {},
   "outputs": [
    {
     "name": "stdout",
     "output_type": "stream",
     "text": [
      "Help on function print_kwargs in module __main__:\n",
      "\n",
      "print_kwargs(**kwargs)\n",
      "    모든 키워드인자를 출력한다\n",
      "    \n",
      "    그냥 출력만함\n",
      "\n"
     ]
    }
   ],
   "source": [
    "help(print_kwargs)"
   ]
  },
  {
   "cell_type": "code",
   "execution_count": 81,
   "metadata": {},
   "outputs": [],
   "source": [
    "def print_all_args(*args, **kwargs):\n",
    "    'Print all arguments'\n",
    "    print(args)\n",
    "    print(kwargs)"
   ]
  },
  {
   "cell_type": "code",
   "execution_count": 82,
   "metadata": {},
   "outputs": [
    {
     "name": "stdout",
     "output_type": "stream",
     "text": [
      "(2, 3, 4, 'a')\n",
      "{'apple': '사과'}\n"
     ]
    }
   ],
   "source": [
    "print_all_args(2, 3, 4, 'a', apple='사과')"
   ]
  },
  {
   "cell_type": "code",
   "execution_count": 83,
   "metadata": {},
   "outputs": [
    {
     "name": "stdout",
     "output_type": "stream",
     "text": [
      "(<built-in function print>, <built-in function sum>)\n",
      "{}\n"
     ]
    }
   ],
   "source": [
    "print_all_args(print, sum)"
   ]
  },
  {
   "cell_type": "code",
   "execution_count": 90,
   "metadata": {},
   "outputs": [],
   "source": [
    "def print_call_func():\n",
    "    print('call func!')"
   ]
  },
  {
   "cell_type": "code",
   "execution_count": 91,
   "metadata": {},
   "outputs": [],
   "source": [
    "# 새 함수를 정의 (execute_arg_function)\n",
    "# 이 함수는 매개변수를 1개 받음\n",
    "#  이 함수를 호출 시, 매개변수로 전달받은 함수(callable)를 호출한다\n",
    "\n",
    "# 실제 동작에서는 위의 print_call_func함수객체를 인자로 전달하도록 한다\n",
    "def execute_arg_function(f):\n",
    "    f()"
   ]
  },
  {
   "cell_type": "code",
   "execution_count": 92,
   "metadata": {},
   "outputs": [
    {
     "name": "stdout",
     "output_type": "stream",
     "text": [
      "call func!\n"
     ]
    }
   ],
   "source": [
    "execute_arg_function(print_call_func)"
   ]
  },
  {
   "cell_type": "code",
   "execution_count": 95,
   "metadata": {},
   "outputs": [],
   "source": [
    "def get_one_str_arg(str_arg):\n",
    "    def upper(s):\n",
    "        return s.upper()\n",
    "    \n",
    "    # 내부함수를 실행한 결과를 리턴\n",
    "    return upper(str_arg)"
   ]
  },
  {
   "cell_type": "code",
   "execution_count": 97,
   "metadata": {},
   "outputs": [
    {
     "data": {
      "text/plain": [
       "'JKDJFKSJEILFUASLDF'"
      ]
     },
     "execution_count": 97,
     "metadata": {},
     "output_type": "execute_result"
    }
   ],
   "source": [
    "result = get_one_str_arg('jkdjfksjeilfuasldf')\n",
    "result"
   ]
  },
  {
   "cell_type": "code",
   "execution_count": 3,
   "metadata": {},
   "outputs": [
    {
     "name": "stdout",
     "output_type": "stream",
     "text": [
      "show_global_champion: Lux\n",
      "Lux\n"
     ]
    }
   ],
   "source": [
    "# 자신의 스코프에서 찾지 못한 변수는, 자신보다 상위 스코프에서 찾는다\n",
    "champion = 'Lux'\n",
    "\n",
    "def show_global_champion():\n",
    "    print(f'show_global_champion: {champion}')\n",
    "    \n",
    "show_global_champion()\n",
    "print(champion)"
   ]
  },
  {
   "cell_type": "code",
   "execution_count": 34,
   "metadata": {},
   "outputs": [
    {
     "name": "stdout",
     "output_type": "stream",
     "text": [
      "show_global_champion: Lux\n",
      "4460418224\n",
      "after change_global_champion: Ahri\n",
      "4496338992\n",
      "show_global_champion: Ahri\n",
      "4496338992\n"
     ]
    }
   ],
   "source": [
    "champion = 'Lux'\n",
    "\n",
    "def show_global_champion():\n",
    "    print(f'show_global_champion: {champion}')\n",
    "    print(id(champion))\n",
    "    \n",
    "def change_global_champion():\n",
    "    global champion\n",
    "    champion = 'Ahri'\n",
    "    print(f'after change_global_champion: {champion}')\n",
    "    print(id(champion))\n",
    "\n",
    "show_global_champion()\n",
    "change_global_champion()\n",
    "show_global_champion()"
   ]
  },
  {
   "cell_type": "code",
   "execution_count": 52,
   "metadata": {},
   "outputs": [
    {
     "name": "stdout",
     "output_type": "stream",
     "text": [
      "Lux\n",
      "local1 locals(): {'champion': 'Ahri'}\n",
      "local2 locals(): {'champion': 'Ezreal'}\n",
      "Lux\n"
     ]
    }
   ],
   "source": [
    "champion = 'Lux'\n",
    "\n",
    "def local1():\n",
    "    champion = 'Ahri'\n",
    "    print(f'local1 locals(): {locals()}')\n",
    "    \n",
    "    def local2():\n",
    "        champion = 'Ezreal'\n",
    "        print(f'local2 locals(): {locals()}')\n",
    "        \n",
    "    local2()\n",
    "    \n",
    "print(champion)\n",
    "local1()\n",
    "print(champion)"
   ]
  },
  {
   "cell_type": "code",
   "execution_count": 59,
   "metadata": {},
   "outputs": [
    {
     "name": "stdout",
     "output_type": "stream",
     "text": [
      "global: Lux\n",
      "local1 locals(): {'champion': 'Ahri'}\n",
      "local1: Ahri\n",
      "local2 locals(): {'champion': 'Ezreal'}\n",
      "local2: Ezreal\n",
      "local1: Ezreal\n",
      "global: Lux\n"
     ]
    }
   ],
   "source": [
    "champion = 'Lux'\n",
    "\n",
    "def local1():\n",
    "    champion = 'Ahri'\n",
    "    print(f'local1 locals(): {locals()}')\n",
    "    print('local1:', champion)\n",
    "    \n",
    "    def local2():\n",
    "        nonlocal champion\n",
    "        champion = 'Ezreal'\n",
    "        print(f'local2 locals(): {locals()}')\n",
    "        print('local2:', champion)\n",
    "        \n",
    "    local2()\n",
    "    print('local1:', champion)\n",
    "    \n",
    "print('global:', champion)\n",
    "local1()\n",
    "print('global:', champion)"
   ]
  },
  {
   "cell_type": "code",
   "execution_count": 65,
   "metadata": {},
   "outputs": [
    {
     "name": "stdout",
     "output_type": "stream",
     "text": [
      "100\n",
      "130\n"
     ]
    }
   ],
   "source": [
    "global_level = 100\n",
    "\n",
    "def level_add():\n",
    "    global global_level\n",
    "    global_level += 30\n",
    "\n",
    "\n",
    "print(global_level)\n",
    "level_add()\n",
    "print(global_level)"
   ]
  },
  {
   "cell_type": "code",
   "execution_count": 66,
   "metadata": {},
   "outputs": [
    {
     "name": "stdout",
     "output_type": "stream",
     "text": [
      "100\n",
      "100\n"
     ]
    }
   ],
   "source": [
    "global_level = 100\n",
    "\n",
    "def level_add(value):\n",
    "    value += 30\n",
    "    \n",
    "print(global_level)\n",
    "level_add(global_level)\n",
    "print(global_level)"
   ]
  },
  {
   "cell_type": "code",
   "execution_count": 70,
   "metadata": {},
   "outputs": [
    {
     "name": "stdout",
     "output_type": "stream",
     "text": [
      "[]\n",
      "['ASDF']\n"
     ]
    }
   ],
   "source": [
    "global_list = []\n",
    "\n",
    "def add_item():\n",
    "    global global_list\n",
    "    global_list.append('ASDF')\n",
    "\n",
    "print(global_list)\n",
    "add_item()\n",
    "print(global_list)"
   ]
  },
  {
   "cell_type": "code",
   "execution_count": 72,
   "metadata": {},
   "outputs": [
    {
     "name": "stdout",
     "output_type": "stream",
     "text": [
      "[]\n",
      "[]\n"
     ]
    }
   ],
   "source": [
    "global_list = []\n",
    "\n",
    "def add_item(target_list):\n",
    "#     target_list.append('ASDF')\n",
    "    target_list = ['ASDF']\n",
    "\n",
    "print(global_list)\n",
    "add_item(global_list)\n",
    "print(global_list)"
   ]
  },
  {
   "cell_type": "code",
   "execution_count": 77,
   "metadata": {},
   "outputs": [],
   "source": [
    "def square(value):\n",
    "    return value * value"
   ]
  },
  {
   "cell_type": "code",
   "execution_count": 80,
   "metadata": {},
   "outputs": [
    {
     "data": {
      "text/plain": [
       "25"
      ]
     },
     "execution_count": 80,
     "metadata": {},
     "output_type": "execute_result"
    }
   ],
   "source": [
    "square(5)"
   ]
  },
  {
   "cell_type": "code",
   "execution_count": 81,
   "metadata": {},
   "outputs": [
    {
     "data": {
      "text/plain": [
       "<function __main__.square(value)>"
      ]
     },
     "execution_count": 81,
     "metadata": {},
     "output_type": "execute_result"
    }
   ],
   "source": [
    "square"
   ]
  },
  {
   "cell_type": "code",
   "execution_count": 84,
   "metadata": {},
   "outputs": [
    {
     "data": {
      "text/plain": [
       "<function __main__.<lambda>(value)>"
      ]
     },
     "execution_count": 84,
     "metadata": {},
     "output_type": "execute_result"
    }
   ],
   "source": [
    "lambda value: value * value"
   ]
  },
  {
   "cell_type": "code",
   "execution_count": 85,
   "metadata": {},
   "outputs": [
    {
     "data": {
      "text/plain": [
       "25"
      ]
     },
     "execution_count": 85,
     "metadata": {},
     "output_type": "execute_result"
    }
   ],
   "source": [
    "square(5)\n",
    "(lambda value: value * value)(5)"
   ]
  },
  {
   "cell_type": "code",
   "execution_count": 86,
   "metadata": {},
   "outputs": [
    {
     "data": {
      "text/plain": [
       "<function __main__.<lambda>(value)>"
      ]
     },
     "execution_count": 86,
     "metadata": {},
     "output_type": "execute_result"
    }
   ],
   "source": [
    "f = lambda value: value * value\n",
    "f"
   ]
  },
  {
   "cell_type": "code",
   "execution_count": 87,
   "metadata": {},
   "outputs": [
    {
     "data": {
      "text/plain": [
       "25"
      ]
     },
     "execution_count": 87,
     "metadata": {},
     "output_type": "execute_result"
    }
   ],
   "source": [
    "f(5)"
   ]
  },
  {
   "cell_type": "code",
   "execution_count": 93,
   "metadata": {},
   "outputs": [
    {
     "data": {
      "text/plain": [
       "'abcdefghijklmnopqrstuvwxyz'"
      ]
     },
     "execution_count": 93,
     "metadata": {},
     "output_type": "execute_result"
    }
   ],
   "source": [
    "import string\n",
    "string.ascii_lowercase"
   ]
  },
  {
   "cell_type": "code",
   "execution_count": 95,
   "metadata": {},
   "outputs": [
    {
     "data": {
      "text/plain": [
       "'s'"
      ]
     },
     "execution_count": 95,
     "metadata": {},
     "output_type": "execute_result"
    }
   ],
   "source": [
    "(lambda x: x.upper() if x > 'w' else x)('s')"
   ]
  },
  {
   "cell_type": "code",
   "execution_count": 92,
   "metadata": {},
   "outputs": [
    {
     "name": "stdout",
     "output_type": "stream",
     "text": [
      "a\n",
      "b\n",
      "c\n",
      "d\n",
      "e\n",
      "f\n",
      "g\n",
      "h\n",
      "i\n",
      "J\n",
      "K\n",
      "L\n",
      "M\n",
      "N\n",
      "O\n",
      "P\n",
      "Q\n",
      "R\n",
      "S\n",
      "T\n",
      "U\n",
      "V\n",
      "W\n",
      "X\n",
      "Y\n",
      "Z\n"
     ]
    }
   ],
   "source": [
    "for char in string.ascii_lowercase:\n",
    "    print((lambda x: x.upper() if x > 'i' else x)(char))"
   ]
  },
  {
   "cell_type": "code",
   "execution_count": 108,
   "metadata": {},
   "outputs": [],
   "source": [
    "level = 0\n",
    "\n",
    "def outer():\n",
    "    level = 50\n",
    "    \n",
    "    def inner():\n",
    "        nonlocal level\n",
    "        level += 3\n",
    "        print(level)\n",
    "    \n",
    "    return inner"
   ]
  },
  {
   "cell_type": "code",
   "execution_count": 112,
   "metadata": {},
   "outputs": [],
   "source": [
    "f1 = outer()"
   ]
  },
  {
   "cell_type": "code",
   "execution_count": 113,
   "metadata": {},
   "outputs": [
    {
     "name": "stdout",
     "output_type": "stream",
     "text": [
      "53\n"
     ]
    }
   ],
   "source": [
    "f1()"
   ]
  },
  {
   "cell_type": "code",
   "execution_count": 115,
   "metadata": {},
   "outputs": [
    {
     "name": "stdout",
     "output_type": "stream",
     "text": [
      "56\n"
     ]
    }
   ],
   "source": [
    "f1()"
   ]
  },
  {
   "cell_type": "code",
   "execution_count": 116,
   "metadata": {},
   "outputs": [],
   "source": [
    "f2 = outer()"
   ]
  },
  {
   "cell_type": "code",
   "execution_count": 117,
   "metadata": {},
   "outputs": [
    {
     "name": "stdout",
     "output_type": "stream",
     "text": [
      "53\n"
     ]
    }
   ],
   "source": [
    "f2()"
   ]
  },
  {
   "cell_type": "code",
   "execution_count": 131,
   "metadata": {},
   "outputs": [],
   "source": [
    "def print_string(value):\n",
    "    print('print_string call')\n",
    "    print(value)\n",
    "    \n",
    "def print_int(value):\n",
    "    print('print_int call')\n",
    "    print(value)"
   ]
  },
  {
   "cell_type": "code",
   "execution_count": 132,
   "metadata": {},
   "outputs": [
    {
     "name": "stdout",
     "output_type": "stream",
     "text": [
      "print_string call\n",
      "asdf\n",
      "print_int call\n",
      "3\n"
     ]
    }
   ],
   "source": [
    "print_string('asdf')\n",
    "print_int(3)"
   ]
  },
  {
   "cell_type": "code",
   "execution_count": 133,
   "metadata": {},
   "outputs": [],
   "source": [
    "def print_debug(f):\n",
    "    def decorator(*args, **kwargs):\n",
    "        print('args:', args)\n",
    "        print('kwargs:', kwargs)\n",
    "        result = f(*args, **kwargs)\n",
    "        return result\n",
    "    return decorator"
   ]
  },
  {
   "cell_type": "code",
   "execution_count": 134,
   "metadata": {},
   "outputs": [],
   "source": [
    "debug_print_string = print_debug(print_string)\n",
    "debug_print_int = print_debug(print_int)"
   ]
  },
  {
   "cell_type": "code",
   "execution_count": 135,
   "metadata": {},
   "outputs": [
    {
     "name": "stdout",
     "output_type": "stream",
     "text": [
      "args: ('asdf',)\n",
      "kwargs: {}\n",
      "print_string call\n",
      "asdf\n"
     ]
    }
   ],
   "source": [
    "debug_print_string('asdf')"
   ]
  },
  {
   "cell_type": "code",
   "execution_count": 136,
   "metadata": {},
   "outputs": [
    {
     "name": "stdout",
     "output_type": "stream",
     "text": [
      "args: (123,)\n",
      "kwargs: {}\n",
      "print_int call\n",
      "123\n"
     ]
    }
   ],
   "source": [
    "debug_print_int(123)"
   ]
  },
  {
   "cell_type": "code",
   "execution_count": 137,
   "metadata": {},
   "outputs": [],
   "source": [
    "debug_print_string = print_debug(print_string)\n",
    "\n",
    "@print_debug\n",
    "def print_string(value):\n",
    "    print('print_string call')\n",
    "    print(value)\n",
    "    \n",
    "@print_debug\n",
    "def print_int(value):\n",
    "    print('print_int call')\n",
    "    print(value)"
   ]
  },
  {
   "cell_type": "code",
   "execution_count": 138,
   "metadata": {},
   "outputs": [
    {
     "name": "stdout",
     "output_type": "stream",
     "text": [
      "args: ('asdf',)\n",
      "kwargs: {}\n",
      "print_string call\n",
      "asdf\n"
     ]
    }
   ],
   "source": [
    "print_string('asdf')"
   ]
  },
  {
   "cell_type": "code",
   "execution_count": 1,
   "metadata": {},
   "outputs": [],
   "source": [
    "a = list(range(100000000))"
   ]
  },
  {
   "cell_type": "code",
   "execution_count": 62,
   "metadata": {},
   "outputs": [],
   "source": [
    "def range_gen(num):\n",
    "    i = 0\n",
    "    while i < num:\n",
    "        yield i\n",
    "        i += 1"
   ]
  },
  {
   "cell_type": "code",
   "execution_count": 63,
   "metadata": {},
   "outputs": [
    {
     "data": {
      "text/plain": [
       "<generator object range_gen at 0x127032850>"
      ]
     },
     "execution_count": 63,
     "metadata": {},
     "output_type": "execute_result"
    }
   ],
   "source": [
    "gen = range_gen(10)\n",
    "gen"
   ]
  },
  {
   "cell_type": "code",
   "execution_count": 64,
   "metadata": {},
   "outputs": [
    {
     "name": "stdout",
     "output_type": "stream",
     "text": [
      "0\n",
      "1\n",
      "2\n",
      "3\n",
      "4\n",
      "5\n",
      "6\n",
      "7\n",
      "8\n",
      "9\n"
     ]
    }
   ],
   "source": [
    "# for i in [0, 1, 2, 3, 4, 5, 6, 7, 8, 9]\n",
    "for i in gen:\n",
    "    print(i)"
   ]
  },
  {
   "cell_type": "code",
   "execution_count": 37,
   "metadata": {},
   "outputs": [
    {
     "data": {
      "text/plain": [
       "5"
      ]
     },
     "execution_count": 37,
     "metadata": {},
     "output_type": "execute_result"
    }
   ],
   "source": [
    "gen = range_gen(3)\n",
    "gen.__next__()"
   ]
  },
  {
   "cell_type": "code",
   "execution_count": 23,
   "metadata": {},
   "outputs": [
    {
     "data": {
      "text/plain": [
       "1"
      ]
     },
     "execution_count": 23,
     "metadata": {},
     "output_type": "execute_result"
    }
   ],
   "source": [
    "gen.__next__()"
   ]
  },
  {
   "cell_type": "code",
   "execution_count": 24,
   "metadata": {},
   "outputs": [
    {
     "data": {
      "text/plain": [
       "2"
      ]
     },
     "execution_count": 24,
     "metadata": {},
     "output_type": "execute_result"
    }
   ],
   "source": [
    "gen.__next__()"
   ]
  },
  {
   "cell_type": "code",
   "execution_count": 25,
   "metadata": {},
   "outputs": [
    {
     "ename": "StopIteration",
     "evalue": "",
     "output_type": "error",
     "traceback": [
      "\u001b[0;31m---------------------------------------------------------------------------\u001b[0m",
      "\u001b[0;31mStopIteration\u001b[0m                             Traceback (most recent call last)",
      "\u001b[0;32m<ipython-input-25-d5d004b357fe>\u001b[0m in \u001b[0;36m<module>\u001b[0;34m\u001b[0m\n\u001b[0;32m----> 1\u001b[0;31m \u001b[0mgen\u001b[0m\u001b[0;34m.\u001b[0m\u001b[0m__next__\u001b[0m\u001b[0;34m(\u001b[0m\u001b[0;34m)\u001b[0m\u001b[0;34m\u001b[0m\u001b[0;34m\u001b[0m\u001b[0m\n\u001b[0m",
      "\u001b[0;31mStopIteration\u001b[0m: "
     ]
    }
   ],
   "source": [
    "gen.__next__()"
   ]
  },
  {
   "cell_type": "code",
   "execution_count": 65,
   "metadata": {},
   "outputs": [
    {
     "data": {
      "text/plain": [
       "0"
      ]
     },
     "execution_count": 65,
     "metadata": {},
     "output_type": "execute_result"
    }
   ],
   "source": [
    "gen = range_gen(2)\n",
    "next(gen)"
   ]
  },
  {
   "cell_type": "code",
   "execution_count": 66,
   "metadata": {},
   "outputs": [
    {
     "data": {
      "text/plain": [
       "1"
      ]
     },
     "execution_count": 66,
     "metadata": {},
     "output_type": "execute_result"
    }
   ],
   "source": [
    "next(gen)"
   ]
  },
  {
   "cell_type": "code",
   "execution_count": 69,
   "metadata": {},
   "outputs": [
    {
     "ename": "StopIteration",
     "evalue": "",
     "output_type": "error",
     "traceback": [
      "\u001b[0;31m---------------------------------------------------------------------------\u001b[0m",
      "\u001b[0;31mStopIteration\u001b[0m                             Traceback (most recent call last)",
      "\u001b[0;32m<ipython-input-69-6e72e47198db>\u001b[0m in \u001b[0;36m<module>\u001b[0;34m\u001b[0m\n\u001b[0;32m----> 1\u001b[0;31m \u001b[0mnext\u001b[0m\u001b[0;34m(\u001b[0m\u001b[0mgen\u001b[0m\u001b[0;34m)\u001b[0m\u001b[0;34m\u001b[0m\u001b[0;34m\u001b[0m\u001b[0m\n\u001b[0m",
      "\u001b[0;31mStopIteration\u001b[0m: "
     ]
    }
   ],
   "source": [
    "next(gen)"
   ]
  },
  {
   "cell_type": "code",
   "execution_count": 71,
   "metadata": {},
   "outputs": [
    {
     "ename": "StopIteration",
     "evalue": "",
     "output_type": "error",
     "traceback": [
      "\u001b[0;31m---------------------------------------------------------------------------\u001b[0m",
      "\u001b[0;31mStopIteration\u001b[0m                             Traceback (most recent call last)",
      "\u001b[0;32m<ipython-input-71-6e72e47198db>\u001b[0m in \u001b[0;36m<module>\u001b[0;34m\u001b[0m\n\u001b[0;32m----> 1\u001b[0;31m \u001b[0mnext\u001b[0m\u001b[0;34m(\u001b[0m\u001b[0mgen\u001b[0m\u001b[0;34m)\u001b[0m\u001b[0;34m\u001b[0m\u001b[0;34m\u001b[0m\u001b[0m\n\u001b[0m",
      "\u001b[0;31mStopIteration\u001b[0m: "
     ]
    }
   ],
   "source": [
    "next(gen)"
   ]
  },
  {
   "cell_type": "code",
   "execution_count": 72,
   "metadata": {},
   "outputs": [],
   "source": [
    "for i in []:\n",
    "    print(i)"
   ]
  },
  {
   "cell_type": "code",
   "execution_count": 29,
   "metadata": {},
   "outputs": [],
   "source": [
    "ran = range(0, 100000000, 5)"
   ]
  },
  {
   "cell_type": "code",
   "execution_count": 30,
   "metadata": {},
   "outputs": [
    {
     "data": {
      "text/plain": [
       "range(0, 100000000, 5)"
      ]
     },
     "execution_count": 30,
     "metadata": {},
     "output_type": "execute_result"
    }
   ],
   "source": [
    "ran"
   ]
  },
  {
   "cell_type": "code",
   "execution_count": 31,
   "metadata": {},
   "outputs": [
    {
     "data": {
      "text/plain": [
       "50"
      ]
     },
     "execution_count": 31,
     "metadata": {},
     "output_type": "execute_result"
    }
   ],
   "source": [
    "ran[10]"
   ]
  },
  {
   "cell_type": "code",
   "execution_count": 32,
   "metadata": {},
   "outputs": [
    {
     "ename": "NameError",
     "evalue": "name 'xrange' is not defined",
     "output_type": "error",
     "traceback": [
      "\u001b[0;31m---------------------------------------------------------------------------\u001b[0m",
      "\u001b[0;31mNameError\u001b[0m                                 Traceback (most recent call last)",
      "\u001b[0;32m<ipython-input-32-6dfdf2370ec6>\u001b[0m in \u001b[0;36m<module>\u001b[0;34m\u001b[0m\n\u001b[1;32m      1\u001b[0m \u001b[0mrange\u001b[0m\u001b[0;34m\u001b[0m\u001b[0;34m\u001b[0m\u001b[0m\n\u001b[0;32m----> 2\u001b[0;31m \u001b[0mxrange\u001b[0m\u001b[0;34m\u001b[0m\u001b[0;34m\u001b[0m\u001b[0m\n\u001b[0m",
      "\u001b[0;31mNameError\u001b[0m: name 'xrange' is not defined"
     ]
    }
   ],
   "source": [
    "range"
   ]
  },
  {
   "cell_type": "markdown",
   "metadata": {},
   "source": [
    "## 실습"
   ]
  },
  {
   "cell_type": "markdown",
   "metadata": {},
   "source": [
    "1번"
   ]
  },
  {
   "cell_type": "code",
   "execution_count": 2,
   "metadata": {},
   "outputs": [],
   "source": [
    "# 매개변수 color는 str형 객체가 올 것이며\n",
    "# what_fruit의 리턴 역시 str객체가 될 것이다\n",
    "def what_fruit(color: str) -> str:\n",
    "    if color == 'red':\n",
    "        return 'apple'\n",
    "    elif color == 'yellow':\n",
    "        return 'banana'\n",
    "    elif color == 'green':\n",
    "        return 'melon'\n",
    "    else:\n",
    "        return \"I don't know\""
   ]
  },
  {
   "cell_type": "code",
   "execution_count": 10,
   "metadata": {},
   "outputs": [],
   "source": [
    "fruit_color_dict = {\n",
    "    'red': 'apple',\n",
    "    'yellow': 'banana',\n",
    "    'green': 'melon',\n",
    "}\n",
    "\n",
    "def what_fruit_from_dict(color: str) -> str:\n",
    "    \"\"\"\n",
    "    주어진 color에 해당하는 fruit문자열을 리턴함\n",
    "    \"\"\"\n",
    "    return fruit_color_dict.get(color, \"I don't know\")"
   ]
  },
  {
   "cell_type": "code",
   "execution_count": 11,
   "metadata": {},
   "outputs": [
    {
     "data": {
      "text/plain": [
       "'apple'"
      ]
     },
     "execution_count": 11,
     "metadata": {},
     "output_type": "execute_result"
    }
   ],
   "source": [
    "what_fruit_from_dict('red')"
   ]
  },
  {
   "cell_type": "code",
   "execution_count": 12,
   "metadata": {},
   "outputs": [
    {
     "data": {
      "text/plain": [
       "\"I don't know\""
      ]
     },
     "execution_count": 12,
     "metadata": {},
     "output_type": "execute_result"
    }
   ],
   "source": [
    "what_fruit_from_dict('purple')"
   ]
  },
  {
   "cell_type": "code",
   "execution_count": 13,
   "metadata": {},
   "outputs": [
    {
     "name": "stdout",
     "output_type": "stream",
     "text": [
      "Help on function what_fruit_from_dict in module __main__:\n",
      "\n",
      "what_fruit_from_dict(color: str) -> str\n",
      "    주어진 color에 해당하는 fruit문자열을 리턴함\n",
      "\n"
     ]
    }
   ],
   "source": [
    "help(what_fruit_from_dict)"
   ]
  },
  {
   "cell_type": "code",
   "execution_count": 24,
   "metadata": {},
   "outputs": [],
   "source": [
    "def square_or_multi1(a, b=None):\n",
    "    if b is None:\n",
    "        return a ** 2\n",
    "    else:\n",
    "        return a * b\n",
    "\n",
    "def square_of_multi2(*args):\n",
    "    if len(args) > 2:\n",
    "        raise TypeError('args length > 2')\n",
    "    elif len(args) == 2:\n",
    "        return args[0] * args[1]\n",
    "    elif len(args) == 1:\n",
    "        return args[0] ** 2\n",
    "    else:\n",
    "        raise TypeError('args length == 0')"
   ]
  },
  {
   "cell_type": "code",
   "execution_count": 36,
   "metadata": {},
   "outputs": [],
   "source": [
    "def sum_sub1(a, b):\n",
    "    large, small = (a, b) if a > b else (b, a)\n",
    "    return large + small, large - small"
   ]
  },
  {
   "cell_type": "code",
   "execution_count": 37,
   "metadata": {},
   "outputs": [],
   "source": [
    "def sum_sub2(a, b):\n",
    "    return a + b, abs(a - b)"
   ]
  },
  {
   "cell_type": "code",
   "execution_count": 38,
   "metadata": {},
   "outputs": [
    {
     "data": {
      "text/plain": [
       "(8, 2)"
      ]
     },
     "execution_count": 38,
     "metadata": {},
     "output_type": "execute_result"
    }
   ],
   "source": [
    "sum_sub2(3, 5)"
   ]
  },
  {
   "cell_type": "code",
   "execution_count": 41,
   "metadata": {},
   "outputs": [],
   "source": [
    "def print_and_return_args_length(*args):\n",
    "    len_args = len(args)\n",
    "    print(f'주어진 위치인자의 개수는 {len_args}개 입니다')\n",
    "    return len_args"
   ]
  },
  {
   "cell_type": "code",
   "execution_count": 42,
   "metadata": {},
   "outputs": [
    {
     "name": "stdout",
     "output_type": "stream",
     "text": [
      "주어진 위치인자의 개수는 5개 입니다\n"
     ]
    },
    {
     "data": {
      "text/plain": [
       "5"
      ]
     },
     "execution_count": 42,
     "metadata": {},
     "output_type": "execute_result"
    }
   ],
   "source": [
    "print_and_return_args_length(1, 2, 3, 4, 5)"
   ]
  },
  {
   "cell_type": "code",
   "execution_count": 45,
   "metadata": {},
   "outputs": [],
   "source": [
    "results = [(lambda x, y: f'{x} x {y} = {x * y}')(i, j) for i in range (2, 10) for j in range(1, 10)]"
   ]
  },
  {
   "cell_type": "code",
   "execution_count": 48,
   "metadata": {},
   "outputs": [
    {
     "data": {
      "text/plain": [
       "['2 x 1 = 2',\n",
       " '2 x 2 = 4',\n",
       " '2 x 3 = 6',\n",
       " '2 x 4 = 8',\n",
       " '2 x 5 = 10',\n",
       " '2 x 6 = 12',\n",
       " '2 x 7 = 14',\n",
       " '2 x 8 = 16',\n",
       " '2 x 9 = 18',\n",
       " '3 x 1 = 3',\n",
       " '3 x 2 = 6',\n",
       " '3 x 3 = 9',\n",
       " '3 x 4 = 12',\n",
       " '3 x 5 = 15',\n",
       " '3 x 6 = 18',\n",
       " '3 x 7 = 21',\n",
       " '3 x 8 = 24',\n",
       " '3 x 9 = 27',\n",
       " '4 x 1 = 4',\n",
       " '4 x 2 = 8',\n",
       " '4 x 3 = 12',\n",
       " '4 x 4 = 16',\n",
       " '4 x 5 = 20',\n",
       " '4 x 6 = 24',\n",
       " '4 x 7 = 28',\n",
       " '4 x 8 = 32',\n",
       " '4 x 9 = 36',\n",
       " '5 x 1 = 5',\n",
       " '5 x 2 = 10',\n",
       " '5 x 3 = 15',\n",
       " '5 x 4 = 20',\n",
       " '5 x 5 = 25',\n",
       " '5 x 6 = 30',\n",
       " '5 x 7 = 35',\n",
       " '5 x 8 = 40',\n",
       " '5 x 9 = 45',\n",
       " '6 x 1 = 6',\n",
       " '6 x 2 = 12',\n",
       " '6 x 3 = 18',\n",
       " '6 x 4 = 24',\n",
       " '6 x 5 = 30',\n",
       " '6 x 6 = 36',\n",
       " '6 x 7 = 42',\n",
       " '6 x 8 = 48',\n",
       " '6 x 9 = 54',\n",
       " '7 x 1 = 7',\n",
       " '7 x 2 = 14',\n",
       " '7 x 3 = 21',\n",
       " '7 x 4 = 28',\n",
       " '7 x 5 = 35',\n",
       " '7 x 6 = 42',\n",
       " '7 x 7 = 49',\n",
       " '7 x 8 = 56',\n",
       " '7 x 9 = 63',\n",
       " '8 x 1 = 8',\n",
       " '8 x 2 = 16',\n",
       " '8 x 3 = 24',\n",
       " '8 x 4 = 32',\n",
       " '8 x 5 = 40',\n",
       " '8 x 6 = 48',\n",
       " '8 x 7 = 56',\n",
       " '8 x 8 = 64',\n",
       " '8 x 9 = 72',\n",
       " '9 x 1 = 9',\n",
       " '9 x 2 = 18',\n",
       " '9 x 3 = 27',\n",
       " '9 x 4 = 36',\n",
       " '9 x 5 = 45',\n",
       " '9 x 6 = 54',\n",
       " '9 x 7 = 63',\n",
       " '9 x 8 = 72',\n",
       " '9 x 9 = 81']"
      ]
     },
     "execution_count": 48,
     "metadata": {},
     "output_type": "execute_result"
    }
   ],
   "source": [
    "results = []\n",
    "for i in range(2, 10):\n",
    "    for j in range(1, 10):\n",
    "#         cur_result = (lambda x, y: f'{x} x {y} = {x * y}')(i, j)\n",
    "#         results.append(cur_result)\n",
    "        results.append(f'{i} x {j} = {i * j}')\n",
    "        \n",
    "results"
   ]
  },
  {
   "cell_type": "code",
   "execution_count": 72,
   "metadata": {},
   "outputs": [],
   "source": [
    "def sequential_search(string, key):\n",
    "    \"\"\"\n",
    "    주어진 string에서 key에 해당하는 문자(1개)가 몇 번째 index에 존재하는지를 리턴\n",
    "    존재하지 않는다면 -1을 리턴한다\n",
    "    \"\"\"\n",
    "    print('string:', string)\n",
    "    print('key:', key)\n",
    "    \n",
    "    for index, char in enumerate(string):\n",
    "        print(index, char, char == key)\n",
    "        if char == key:\n",
    "            return index\n",
    "    return -1"
   ]
  },
  {
   "cell_type": "code",
   "execution_count": 73,
   "metadata": {},
   "outputs": [],
   "source": [
    "def sequential_search(string, key):\n",
    "    index = 0\n",
    "    for char in string:\n",
    "        if char == key:\n",
    "            break\n",
    "        index += 1\n",
    "    else:\n",
    "        index = -1\n",
    "    \n",
    "    return index"
   ]
  },
  {
   "cell_type": "code",
   "execution_count": 74,
   "metadata": {},
   "outputs": [
    {
     "data": {
      "text/plain": [
       "4"
      ]
     },
     "execution_count": 74,
     "metadata": {},
     "output_type": "execute_result"
    }
   ],
   "source": [
    "sequential_search('asdfjkejfs', 'j')"
   ]
  },
  {
   "cell_type": "code",
   "execution_count": 75,
   "metadata": {},
   "outputs": [
    {
     "data": {
      "text/plain": [
       "-1"
      ]
     },
     "execution_count": 75,
     "metadata": {},
     "output_type": "execute_result"
    }
   ],
   "source": [
    "sequential_search('asdf', 'z')"
   ]
  },
  {
   "cell_type": "markdown",
   "metadata": {},
   "source": [
    "- 선택정렬 (거품정렬)\n",
    "- 합병정렬\n",
    "- 삽입정렬\n",
    "- 힙정렬\n",
    "- 퀵소트"
   ]
  },
  {
   "cell_type": "code",
   "execution_count": 94,
   "metadata": {},
   "outputs": [
    {
     "name": "stdout",
     "output_type": "stream",
     "text": [
      "[0, 1, 2, 3, 4, 5, 6, 7, 8, 9]\n"
     ]
    }
   ],
   "source": [
    "sample = [9, 1, 6, 8, 4, 3, 2, 0, 5, 7]\n",
    "sample_length = len(sample)\n",
    "\n",
    "for i in range(sample_length - 1):\n",
    "    min_value_index = i\n",
    "    \n",
    "    for j in range(i + 1, sample_length):\n",
    "        if sample[min_value_index] > sample[j]:\n",
    "            min_value_index = j\n",
    "    \n",
    "    sample[i], sample[min_value_index] = sample[min_value_index], sample[i]\n",
    "    \n",
    "print(sample)"
   ]
  },
  {
   "cell_type": "code",
   "execution_count": 92,
   "metadata": {},
   "outputs": [
    {
     "name": "stdout",
     "output_type": "stream",
     "text": [
      "sample length: 10\n",
      "0 [9, 1, 6, 8, 4, 3, 2, 0, 5, 7]\n",
      "초기 min_value: 9\n",
      "이 loop에서 min_value: 0\n",
      "이 loop에서 min_value_index: 7\n",
      "\n",
      "1 [0, 1, 6, 8, 4, 3, 2, 9, 5, 7]\n",
      "초기 min_value: 1\n",
      "이 loop에서 min_value: 1\n",
      "이 loop에서 min_value_index: 1\n",
      "\n",
      "2 [0, 1, 6, 8, 4, 3, 2, 9, 5, 7]\n",
      "초기 min_value: 6\n",
      "이 loop에서 min_value: 2\n",
      "이 loop에서 min_value_index: 6\n",
      "\n",
      "3 [0, 1, 2, 8, 4, 3, 6, 9, 5, 7]\n",
      "초기 min_value: 8\n",
      "이 loop에서 min_value: 3\n",
      "이 loop에서 min_value_index: 5\n",
      "\n",
      "4 [0, 1, 2, 3, 4, 8, 6, 9, 5, 7]\n",
      "초기 min_value: 4\n",
      "이 loop에서 min_value: 4\n",
      "이 loop에서 min_value_index: 4\n",
      "\n",
      "5 [0, 1, 2, 3, 4, 8, 6, 9, 5, 7]\n",
      "초기 min_value: 8\n",
      "이 loop에서 min_value: 5\n",
      "이 loop에서 min_value_index: 8\n",
      "\n",
      "6 [0, 1, 2, 3, 4, 5, 6, 9, 8, 7]\n",
      "초기 min_value: 6\n",
      "이 loop에서 min_value: 6\n",
      "이 loop에서 min_value_index: 6\n",
      "\n",
      "7 [0, 1, 2, 3, 4, 5, 6, 9, 8, 7]\n",
      "초기 min_value: 9\n",
      "이 loop에서 min_value: 7\n",
      "이 loop에서 min_value_index: 9\n",
      "\n",
      "8 [0, 1, 2, 3, 4, 5, 6, 7, 8, 9]\n",
      "초기 min_value: 8\n",
      "이 loop에서 min_value: 8\n",
      "이 loop에서 min_value_index: 8\n",
      "\n",
      "결과:  [0, 1, 2, 3, 4, 5, 6, 7, 8, 9]\n"
     ]
    }
   ],
   "source": [
    "sample = [9, 1, 6, 8, 4, 3, 2, 0, 5, 7]\n",
    "sample_length = len(sample)\n",
    "print('sample length:', sample_length)\n",
    "\n",
    "for i in range(sample_length - 1):\n",
    "    # 현재 리스트의 상태를 보여줌\n",
    "    print(i, sample)\n",
    "    \n",
    "    # i번째 정렬 loop에서 가장 작은 값을\n",
    "    # i번째 Index의 원소와 교환해준다\n",
    "    min_value = sample[i]\n",
    "    min_value_index = i\n",
    "    print('초기 min_value:', min_value)\n",
    "    for j in range(1 + i, 10):\n",
    "        if min_value > sample[j]:\n",
    "            min_value = sample[j]\n",
    "            min_value_index = j\n",
    "    print('이 loop에서 min_value:', min_value)\n",
    "    print('이 loop에서 min_value_index:', min_value_index)\n",
    "    \n",
    "    # 가장 작은값과, 그 작은값의 index를 찾음 (min_value_index)\n",
    "    # i번째 원소와 min_value_index의 원소를 치환\n",
    "    sample[i], sample[min_value_index] = sample[min_value_index], sample[i]\n",
    "    \n",
    "    print()\n",
    "        \n",
    "print('결과: ', sample)"
   ]
  }
 ],
 "metadata": {
  "kernelspec": {
   "display_name": "Python 3",
   "language": "python",
   "name": "python3"
  },
  "language_info": {
   "codemirror_mode": {
    "name": "ipython",
    "version": 3
   },
   "file_extension": ".py",
   "mimetype": "text/x-python",
   "name": "python",
   "nbconvert_exporter": "python",
   "pygments_lexer": "ipython3",
   "version": "3.7.5"
  }
 },
 "nbformat": 4,
 "nbformat_minor": 2
}
