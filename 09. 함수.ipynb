{
 "cells": [
  {
   "cell_type": "code",
   "execution_count": 1,
   "metadata": {},
   "outputs": [],
   "source": [
    "def call_function():\n",
    "    print('call function!')"
   ]
  },
  {
   "cell_type": "code",
   "execution_count": 2,
   "metadata": {},
   "outputs": [
    {
     "data": {
      "text/plain": [
       "<function __main__.call_function()>"
      ]
     },
     "execution_count": 2,
     "metadata": {},
     "output_type": "execute_result"
    }
   ],
   "source": [
    "call_function"
   ]
  },
  {
   "cell_type": "code",
   "execution_count": 5,
   "metadata": {},
   "outputs": [
    {
     "name": "stdout",
     "output_type": "stream",
     "text": [
      "call function!\n"
     ]
    }
   ],
   "source": [
    "call_function()"
   ]
  },
  {
   "cell_type": "code",
   "execution_count": 6,
   "metadata": {},
   "outputs": [],
   "source": [
    "def return_true():\n",
    "    return True"
   ]
  },
  {
   "cell_type": "code",
   "execution_count": 7,
   "metadata": {},
   "outputs": [
    {
     "data": {
      "text/plain": [
       "True"
      ]
     },
     "execution_count": 7,
     "metadata": {},
     "output_type": "execute_result"
    }
   ],
   "source": [
    "return_true()"
   ]
  },
  {
   "cell_type": "code",
   "execution_count": 15,
   "metadata": {},
   "outputs": [],
   "source": [
    "# print_argument함수는 arg라는 매개변수를 가진다\n",
    "def print_argument(arg):\n",
    "    print(f'arg is {arg}')"
   ]
  },
  {
   "cell_type": "code",
   "execution_count": 16,
   "metadata": {},
   "outputs": [
    {
     "name": "stdout",
     "output_type": "stream",
     "text": [
      "arg is iii\n"
     ]
    }
   ],
   "source": [
    "# a를 print_argument함수 호출의 인자로 전달했다\n",
    "a = 'iii'\n",
    "print_argument(a)"
   ]
  },
  {
   "cell_type": "code",
   "execution_count": 17,
   "metadata": {},
   "outputs": [],
   "source": [
    "def make_student_dict(name, age, gender):\n",
    "    return {\n",
    "        'name': name,\n",
    "        'age': age,\n",
    "        'gender': gender,\n",
    "    }"
   ]
  },
  {
   "cell_type": "code",
   "execution_count": 19,
   "metadata": {},
   "outputs": [],
   "source": [
    "s1 = make_student_dict('이한영', 32, 'male')\n",
    "s2 = make_student_dict('박지혜', 26, 'female')"
   ]
  },
  {
   "cell_type": "code",
   "execution_count": 20,
   "metadata": {},
   "outputs": [
    {
     "name": "stdout",
     "output_type": "stream",
     "text": [
      "{'name': '이한영', 'age': 32, 'gender': 'male'} {'name': '박지혜', 'age': 26, 'gender': 'female'}\n"
     ]
    }
   ],
   "source": [
    "print(s1, s2)"
   ]
  },
  {
   "cell_type": "code",
   "execution_count": 36,
   "metadata": {},
   "outputs": [
    {
     "ename": "SyntaxError",
     "evalue": "positional argument follows keyword argument (<ipython-input-36-88724f4a9706>, line 9)",
     "output_type": "error",
     "traceback": [
      "\u001b[0;36m  File \u001b[0;32m\"<ipython-input-36-88724f4a9706>\"\u001b[0;36m, line \u001b[0;32m9\u001b[0m\n\u001b[0;31m    s4 = make_student_dict(name='이한영', 32, 'male')\u001b[0m\n\u001b[0m                                            ^\u001b[0m\n\u001b[0;31mSyntaxError\u001b[0m\u001b[0;31m:\u001b[0m positional argument follows keyword argument\n"
     ]
    }
   ],
   "source": [
    "# 위치인자 전달\n",
    "s1 = make_student_dict('이한영', 32, 'male')\n",
    "# 키워드인자 전달\n",
    "s2 = make_student_dict(age=32, name='이한영', gender='male')\n",
    "# 혼용\n",
    "s3 = make_student_dict('이한영', gender='male', age=32)\n",
    "\n",
    "# 키워드인자가 위치인자보다 앞에 오는 것은 허용되지않음\n",
    "# (위치인자가 몇 번째 매개변수를 지정하는지의 의미가 모호해짐)\n",
    "s4 = make_student_dict(name='이한영', 32, 'male')"
   ]
  },
  {
   "cell_type": "code",
   "execution_count": 33,
   "metadata": {},
   "outputs": [
    {
     "data": {
      "text/plain": [
       "{'name': '이한영', 'age': 32, 'gender': 'male'}"
      ]
     },
     "execution_count": 33,
     "metadata": {},
     "output_type": "execute_result"
    }
   ],
   "source": [
    "s1"
   ]
  },
  {
   "cell_type": "code",
   "execution_count": 34,
   "metadata": {},
   "outputs": [
    {
     "data": {
      "text/plain": [
       "{'name': '이한영', 'age': 32, 'gender': 'male'}"
      ]
     },
     "execution_count": 34,
     "metadata": {},
     "output_type": "execute_result"
    }
   ],
   "source": [
    "s2"
   ]
  },
  {
   "cell_type": "code",
   "execution_count": 35,
   "metadata": {},
   "outputs": [
    {
     "data": {
      "text/plain": [
       "{'name': '이한영', 'age': 32, 'gender': 'male'}"
      ]
     },
     "execution_count": 35,
     "metadata": {},
     "output_type": "execute_result"
    }
   ],
   "source": [
    "s3"
   ]
  },
  {
   "cell_type": "code",
   "execution_count": 50,
   "metadata": {},
   "outputs": [],
   "source": [
    "def make_student_dict(name, age, gender, cls='WPS'):\n",
    "    return {\n",
    "        'name': name,\n",
    "        'age': age,\n",
    "        'gender': gender,\n",
    "        'class': cls,\n",
    "    }"
   ]
  },
  {
   "cell_type": "code",
   "execution_count": 51,
   "metadata": {},
   "outputs": [],
   "source": [
    "s1 = make_student_dict(1, 2, 3)\n",
    "s2 = make_student_dict(1, 2, 3, 4)"
   ]
  },
  {
   "cell_type": "code",
   "execution_count": 43,
   "metadata": {},
   "outputs": [
    {
     "data": {
      "text/plain": [
       "{'name': 1, 'age': 2, 'gender': 3, 'class': 'WPS'}"
      ]
     },
     "execution_count": 43,
     "metadata": {},
     "output_type": "execute_result"
    }
   ],
   "source": [
    "s1"
   ]
  },
  {
   "cell_type": "code",
   "execution_count": 44,
   "metadata": {},
   "outputs": [
    {
     "data": {
      "text/plain": [
       "{'name': 1, 'age': 2, 'gender': 3, 'class': 4}"
      ]
     },
     "execution_count": 44,
     "metadata": {},
     "output_type": "execute_result"
    }
   ],
   "source": [
    "s2"
   ]
  },
  {
   "cell_type": "code",
   "execution_count": 53,
   "metadata": {},
   "outputs": [],
   "source": [
    "def return_list(value, result=[]):\n",
    "    \"\"\"\n",
    "    result매개변수가 주어지면 해당 리스트에 value를 추가해서 리턴\n",
    "    result매개변수가 주어지지 않으면 새 리스트를 만들어 value를 추가해서 리턴\n",
    "    \"\"\"\n",
    "    result.append(value)\n",
    "    return result"
   ]
  },
  {
   "cell_type": "code",
   "execution_count": 54,
   "metadata": {},
   "outputs": [
    {
     "data": {
      "text/plain": [
       "['apple']"
      ]
     },
     "execution_count": 54,
     "metadata": {},
     "output_type": "execute_result"
    }
   ],
   "source": [
    "result = return_list('apple')\n",
    "result"
   ]
  },
  {
   "cell_type": "code",
   "execution_count": 55,
   "metadata": {},
   "outputs": [
    {
     "data": {
      "text/plain": [
       "['apple', 'melon']"
      ]
     },
     "execution_count": 55,
     "metadata": {},
     "output_type": "execute_result"
    }
   ],
   "source": [
    "result2 = return_list('melon')\n",
    "result2"
   ]
  },
  {
   "cell_type": "code",
   "execution_count": 56,
   "metadata": {},
   "outputs": [
    {
     "data": {
      "text/plain": [
       "['apple', 'melon', 'banana']"
      ]
     },
     "execution_count": 56,
     "metadata": {},
     "output_type": "execute_result"
    }
   ],
   "source": [
    "result3 = return_list('banana')\n",
    "result3"
   ]
  },
  {
   "cell_type": "code",
   "execution_count": 57,
   "metadata": {},
   "outputs": [
    {
     "data": {
      "text/plain": [
       "4510903504"
      ]
     },
     "execution_count": 57,
     "metadata": {},
     "output_type": "execute_result"
    }
   ],
   "source": [
    "id(result)"
   ]
  },
  {
   "cell_type": "code",
   "execution_count": 58,
   "metadata": {},
   "outputs": [
    {
     "data": {
      "text/plain": [
       "4510903504"
      ]
     },
     "execution_count": 58,
     "metadata": {},
     "output_type": "execute_result"
    }
   ],
   "source": [
    "id(result2)"
   ]
  },
  {
   "cell_type": "code",
   "execution_count": 59,
   "metadata": {},
   "outputs": [
    {
     "data": {
      "text/plain": [
       "4510903504"
      ]
     },
     "execution_count": 59,
     "metadata": {},
     "output_type": "execute_result"
    }
   ],
   "source": [
    "id(result3)"
   ]
  },
  {
   "cell_type": "code",
   "execution_count": 60,
   "metadata": {},
   "outputs": [],
   "source": [
    "def return_list(value, result=None):\n",
    "    if result is None:\n",
    "        result = []\n",
    "    result.append(value)\n",
    "    return result"
   ]
  },
  {
   "cell_type": "code",
   "execution_count": 61,
   "metadata": {},
   "outputs": [],
   "source": [
    "result1 = return_list('apple')\n",
    "result2 = return_list('melon')"
   ]
  },
  {
   "cell_type": "code",
   "execution_count": 62,
   "metadata": {},
   "outputs": [
    {
     "data": {
      "text/plain": [
       "['apple']"
      ]
     },
     "execution_count": 62,
     "metadata": {},
     "output_type": "execute_result"
    }
   ],
   "source": [
    "result1"
   ]
  },
  {
   "cell_type": "code",
   "execution_count": 63,
   "metadata": {},
   "outputs": [
    {
     "data": {
      "text/plain": [
       "['melon']"
      ]
     },
     "execution_count": 63,
     "metadata": {},
     "output_type": "execute_result"
    }
   ],
   "source": [
    "result2"
   ]
  },
  {
   "cell_type": "code",
   "execution_count": 72,
   "metadata": {},
   "outputs": [],
   "source": [
    "def print_args(*args):\n",
    "    print(args)"
   ]
  },
  {
   "cell_type": "code",
   "execution_count": 73,
   "metadata": {},
   "outputs": [
    {
     "name": "stdout",
     "output_type": "stream",
     "text": [
      "(1, 2, 3, 4, 'a', 'b')\n"
     ]
    }
   ],
   "source": [
    "print_args(1, 2, 3, 4, 'a', 'b')"
   ]
  },
  {
   "cell_type": "code",
   "execution_count": 78,
   "metadata": {},
   "outputs": [],
   "source": [
    "def print_kwargs(**kwargs):\n",
    "    \"\"\"\n",
    "    모든 키워드인자를 출력한다\n",
    "    \n",
    "    그냥 출력만함\n",
    "    \"\"\"\n",
    "    print(kwargs)"
   ]
  },
  {
   "cell_type": "code",
   "execution_count": 79,
   "metadata": {},
   "outputs": [
    {
     "name": "stdout",
     "output_type": "stream",
     "text": [
      "{'a': 'apple', 'b': 'banana'}\n"
     ]
    }
   ],
   "source": [
    "print_kwargs(a='apple', b='banana')"
   ]
  },
  {
   "cell_type": "code",
   "execution_count": 80,
   "metadata": {},
   "outputs": [
    {
     "name": "stdout",
     "output_type": "stream",
     "text": [
      "Help on function print_kwargs in module __main__:\n",
      "\n",
      "print_kwargs(**kwargs)\n",
      "    모든 키워드인자를 출력한다\n",
      "    \n",
      "    그냥 출력만함\n",
      "\n"
     ]
    }
   ],
   "source": [
    "help(print_kwargs)"
   ]
  },
  {
   "cell_type": "code",
   "execution_count": 81,
   "metadata": {},
   "outputs": [],
   "source": [
    "def print_all_args(*args, **kwargs):\n",
    "    'Print all arguments'\n",
    "    print(args)\n",
    "    print(kwargs)"
   ]
  },
  {
   "cell_type": "code",
   "execution_count": 82,
   "metadata": {},
   "outputs": [
    {
     "name": "stdout",
     "output_type": "stream",
     "text": [
      "(2, 3, 4, 'a')\n",
      "{'apple': '사과'}\n"
     ]
    }
   ],
   "source": [
    "print_all_args(2, 3, 4, 'a', apple='사과')"
   ]
  },
  {
   "cell_type": "code",
   "execution_count": 83,
   "metadata": {},
   "outputs": [
    {
     "name": "stdout",
     "output_type": "stream",
     "text": [
      "(<built-in function print>, <built-in function sum>)\n",
      "{}\n"
     ]
    }
   ],
   "source": [
    "print_all_args(print, sum)"
   ]
  },
  {
   "cell_type": "code",
   "execution_count": 90,
   "metadata": {},
   "outputs": [],
   "source": [
    "def print_call_func():\n",
    "    print('call func!')"
   ]
  },
  {
   "cell_type": "code",
   "execution_count": 91,
   "metadata": {},
   "outputs": [],
   "source": [
    "# 새 함수를 정의 (execute_arg_function)\n",
    "# 이 함수는 매개변수를 1개 받음\n",
    "#  이 함수를 호출 시, 매개변수로 전달받은 함수(callable)를 호출한다\n",
    "\n",
    "# 실제 동작에서는 위의 print_call_func함수객체를 인자로 전달하도록 한다\n",
    "def execute_arg_function(f):\n",
    "    f()"
   ]
  },
  {
   "cell_type": "code",
   "execution_count": 92,
   "metadata": {},
   "outputs": [
    {
     "name": "stdout",
     "output_type": "stream",
     "text": [
      "call func!\n"
     ]
    }
   ],
   "source": [
    "execute_arg_function(print_call_func)"
   ]
  },
  {
   "cell_type": "code",
   "execution_count": 95,
   "metadata": {},
   "outputs": [],
   "source": [
    "def get_one_str_arg(str_arg):\n",
    "    def upper(s):\n",
    "        return s.upper()\n",
    "    \n",
    "    # 내부함수를 실행한 결과를 리턴\n",
    "    return upper(str_arg)"
   ]
  },
  {
   "cell_type": "code",
   "execution_count": 97,
   "metadata": {},
   "outputs": [
    {
     "data": {
      "text/plain": [
       "'JKDJFKSJEILFUASLDF'"
      ]
     },
     "execution_count": 97,
     "metadata": {},
     "output_type": "execute_result"
    }
   ],
   "source": [
    "result = get_one_str_arg('jkdjfksjeilfuasldf')\n",
    "result"
   ]
  },
  {
   "cell_type": "code",
   "execution_count": 3,
   "metadata": {},
   "outputs": [
    {
     "name": "stdout",
     "output_type": "stream",
     "text": [
      "show_global_champion: Lux\n",
      "Lux\n"
     ]
    }
   ],
   "source": [
    "# 자신의 스코프에서 찾지 못한 변수는, 자신보다 상위 스코프에서 찾는다\n",
    "champion = 'Lux'\n",
    "\n",
    "def show_global_champion():\n",
    "    print(f'show_global_champion: {champion}')\n",
    "    \n",
    "show_global_champion()\n",
    "print(champion)"
   ]
  },
  {
   "cell_type": "code",
   "execution_count": 34,
   "metadata": {},
   "outputs": [
    {
     "name": "stdout",
     "output_type": "stream",
     "text": [
      "show_global_champion: Lux\n",
      "4460418224\n",
      "after change_global_champion: Ahri\n",
      "4496338992\n",
      "show_global_champion: Ahri\n",
      "4496338992\n"
     ]
    }
   ],
   "source": [
    "champion = 'Lux'\n",
    "\n",
    "def show_global_champion():\n",
    "    print(f'show_global_champion: {champion}')\n",
    "    print(id(champion))\n",
    "    \n",
    "def change_global_champion():\n",
    "    global champion\n",
    "    champion = 'Ahri'\n",
    "    print(f'after change_global_champion: {champion}')\n",
    "    print(id(champion))\n",
    "\n",
    "show_global_champion()\n",
    "change_global_champion()\n",
    "show_global_champion()"
   ]
  },
  {
   "cell_type": "code",
   "execution_count": 52,
   "metadata": {},
   "outputs": [
    {
     "name": "stdout",
     "output_type": "stream",
     "text": [
      "Lux\n",
      "local1 locals(): {'champion': 'Ahri'}\n",
      "local2 locals(): {'champion': 'Ezreal'}\n",
      "Lux\n"
     ]
    }
   ],
   "source": [
    "champion = 'Lux'\n",
    "\n",
    "def local1():\n",
    "    champion = 'Ahri'\n",
    "    print(f'local1 locals(): {locals()}')\n",
    "    \n",
    "    def local2():\n",
    "        champion = 'Ezreal'\n",
    "        print(f'local2 locals(): {locals()}')\n",
    "        \n",
    "    local2()\n",
    "    \n",
    "print(champion)\n",
    "local1()\n",
    "print(champion)"
   ]
  },
  {
   "cell_type": "code",
   "execution_count": 59,
   "metadata": {},
   "outputs": [
    {
     "name": "stdout",
     "output_type": "stream",
     "text": [
      "global: Lux\n",
      "local1 locals(): {'champion': 'Ahri'}\n",
      "local1: Ahri\n",
      "local2 locals(): {'champion': 'Ezreal'}\n",
      "local2: Ezreal\n",
      "local1: Ezreal\n",
      "global: Lux\n"
     ]
    }
   ],
   "source": [
    "champion = 'Lux'\n",
    "\n",
    "def local1():\n",
    "    champion = 'Ahri'\n",
    "    print(f'local1 locals(): {locals()}')\n",
    "    print('local1:', champion)\n",
    "    \n",
    "    def local2():\n",
    "        nonlocal champion\n",
    "        champion = 'Ezreal'\n",
    "        print(f'local2 locals(): {locals()}')\n",
    "        print('local2:', champion)\n",
    "        \n",
    "    local2()\n",
    "    print('local1:', champion)\n",
    "    \n",
    "print('global:', champion)\n",
    "local1()\n",
    "print('global:', champion)"
   ]
  },
  {
   "cell_type": "code",
   "execution_count": 65,
   "metadata": {},
   "outputs": [
    {
     "name": "stdout",
     "output_type": "stream",
     "text": [
      "100\n",
      "130\n"
     ]
    }
   ],
   "source": [
    "global_level = 100\n",
    "\n",
    "def level_add():\n",
    "    global global_level\n",
    "    global_level += 30\n",
    "\n",
    "\n",
    "print(global_level)\n",
    "level_add()\n",
    "print(global_level)"
   ]
  },
  {
   "cell_type": "code",
   "execution_count": 66,
   "metadata": {},
   "outputs": [
    {
     "name": "stdout",
     "output_type": "stream",
     "text": [
      "100\n",
      "100\n"
     ]
    }
   ],
   "source": [
    "global_level = 100\n",
    "\n",
    "def level_add(value):\n",
    "    value += 30\n",
    "    \n",
    "print(global_level)\n",
    "level_add(global_level)\n",
    "print(global_level)"
   ]
  },
  {
   "cell_type": "code",
   "execution_count": 70,
   "metadata": {},
   "outputs": [
    {
     "name": "stdout",
     "output_type": "stream",
     "text": [
      "[]\n",
      "['ASDF']\n"
     ]
    }
   ],
   "source": [
    "global_list = []\n",
    "\n",
    "def add_item():\n",
    "    global global_list\n",
    "    global_list.append('ASDF')\n",
    "\n",
    "print(global_list)\n",
    "add_item()\n",
    "print(global_list)"
   ]
  },
  {
   "cell_type": "code",
   "execution_count": 72,
   "metadata": {},
   "outputs": [
    {
     "name": "stdout",
     "output_type": "stream",
     "text": [
      "[]\n",
      "[]\n"
     ]
    }
   ],
   "source": [
    "global_list = []\n",
    "\n",
    "def add_item(target_list):\n",
    "#     target_list.append('ASDF')\n",
    "    target_list = ['ASDF']\n",
    "\n",
    "print(global_list)\n",
    "add_item(global_list)\n",
    "print(global_list)"
   ]
  },
  {
   "cell_type": "code",
   "execution_count": 77,
   "metadata": {},
   "outputs": [],
   "source": [
    "def square(value):\n",
    "    return value * value"
   ]
  },
  {
   "cell_type": "code",
   "execution_count": 80,
   "metadata": {},
   "outputs": [
    {
     "data": {
      "text/plain": [
       "25"
      ]
     },
     "execution_count": 80,
     "metadata": {},
     "output_type": "execute_result"
    }
   ],
   "source": [
    "square(5)"
   ]
  },
  {
   "cell_type": "code",
   "execution_count": 81,
   "metadata": {},
   "outputs": [
    {
     "data": {
      "text/plain": [
       "<function __main__.square(value)>"
      ]
     },
     "execution_count": 81,
     "metadata": {},
     "output_type": "execute_result"
    }
   ],
   "source": [
    "square"
   ]
  },
  {
   "cell_type": "code",
   "execution_count": 84,
   "metadata": {},
   "outputs": [
    {
     "data": {
      "text/plain": [
       "<function __main__.<lambda>(value)>"
      ]
     },
     "execution_count": 84,
     "metadata": {},
     "output_type": "execute_result"
    }
   ],
   "source": [
    "lambda value: value * value"
   ]
  },
  {
   "cell_type": "code",
   "execution_count": 85,
   "metadata": {},
   "outputs": [
    {
     "data": {
      "text/plain": [
       "25"
      ]
     },
     "execution_count": 85,
     "metadata": {},
     "output_type": "execute_result"
    }
   ],
   "source": [
    "square(5)\n",
    "(lambda value: value * value)(5)"
   ]
  },
  {
   "cell_type": "code",
   "execution_count": 86,
   "metadata": {},
   "outputs": [
    {
     "data": {
      "text/plain": [
       "<function __main__.<lambda>(value)>"
      ]
     },
     "execution_count": 86,
     "metadata": {},
     "output_type": "execute_result"
    }
   ],
   "source": [
    "f = lambda value: value * value\n",
    "f"
   ]
  },
  {
   "cell_type": "code",
   "execution_count": 87,
   "metadata": {},
   "outputs": [
    {
     "data": {
      "text/plain": [
       "25"
      ]
     },
     "execution_count": 87,
     "metadata": {},
     "output_type": "execute_result"
    }
   ],
   "source": [
    "f(5)"
   ]
  },
  {
   "cell_type": "code",
   "execution_count": 93,
   "metadata": {},
   "outputs": [
    {
     "data": {
      "text/plain": [
       "'abcdefghijklmnopqrstuvwxyz'"
      ]
     },
     "execution_count": 93,
     "metadata": {},
     "output_type": "execute_result"
    }
   ],
   "source": [
    "import string\n",
    "string.ascii_lowercase"
   ]
  },
  {
   "cell_type": "code",
   "execution_count": 95,
   "metadata": {},
   "outputs": [
    {
     "data": {
      "text/plain": [
       "'s'"
      ]
     },
     "execution_count": 95,
     "metadata": {},
     "output_type": "execute_result"
    }
   ],
   "source": [
    "(lambda x: x.upper() if x > 'w' else x)('s')"
   ]
  },
  {
   "cell_type": "code",
   "execution_count": 92,
   "metadata": {},
   "outputs": [
    {
     "name": "stdout",
     "output_type": "stream",
     "text": [
      "a\n",
      "b\n",
      "c\n",
      "d\n",
      "e\n",
      "f\n",
      "g\n",
      "h\n",
      "i\n",
      "J\n",
      "K\n",
      "L\n",
      "M\n",
      "N\n",
      "O\n",
      "P\n",
      "Q\n",
      "R\n",
      "S\n",
      "T\n",
      "U\n",
      "V\n",
      "W\n",
      "X\n",
      "Y\n",
      "Z\n"
     ]
    }
   ],
   "source": [
    "for char in string.ascii_lowercase:\n",
    "    print((lambda x: x.upper() if x > 'i' else x)(char))"
   ]
  },
  {
   "cell_type": "code",
   "execution_count": null,
   "metadata": {},
   "outputs": [],
   "source": []
  }
 ],
 "metadata": {
  "kernelspec": {
   "display_name": "Python 3",
   "language": "python",
   "name": "python3"
  },
  "language_info": {
   "codemirror_mode": {
    "name": "ipython",
    "version": 3
   },
   "file_extension": ".py",
   "mimetype": "text/x-python",
   "name": "python",
   "nbconvert_exporter": "python",
   "pygments_lexer": "ipython3",
   "version": "3.7.5"
  }
 },
 "nbformat": 4,
 "nbformat_minor": 2
}
