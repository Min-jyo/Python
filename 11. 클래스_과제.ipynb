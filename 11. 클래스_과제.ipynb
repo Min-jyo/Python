{
 "cells": [
  {
   "cell_type": "code",
   "execution_count": 2,
   "metadata": {},
   "outputs": [],
   "source": [
    "class Pokemon:\n",
    "    POKEMON_LIST = []\n",
    "    \n",
    "    def __init__(self, name, type):\n",
    "        self.friends = []\n",
    "        self.name = name\n",
    "        self.type = type\n",
    "        self.__level = 1\n",
    "        Pokemon.POKEMON_LIST.append(self)\n",
    "        \n",
    "    @property\n",
    "    def level(self):\n",
    "        # property를 사용해 level을 읽기전용 속성처럼 동작하도록 한다\n",
    "        pass\n",
    "    \n",
    "    def level_up(self):\n",
    "        # private속성값을 변경\n",
    "        pass\n",
    "        \n",
    "    def add_friend(self, pokemon):\n",
    "        # self.friends에 pokemon에 해당하는 Pokemon인스턴스를 추가\n",
    "        pass\n",
    "        \n",
    "    def show_friends(self):\n",
    "        # 아래 출력예시를 보고 작성\n",
    "        pass\n",
    "            \n",
    "    @classmethod\n",
    "    def show_total_pokemon(cls):\n",
    "        # 클래스 변수를 사용하여, 아래 출력예시대로 작성\n",
    "        pass"
   ]
  },
  {
   "cell_type": "markdown",
   "metadata": {},
   "source": [
    "```\n",
    "Pokemon.show_total_pokemon()\n",
    "> 포켓몬이 없습니다...\n",
    "\n",
    "pikachu = Pokemon(name='피카츄', type='전기')\n",
    "pikachu.level\n",
    "> 1\n",
    "\n",
    "pikachu.level_up()\n",
    "pikachu.level\n",
    "> 2\n",
    "\n",
    "butterfree = Pokemon(name='버터플', type='벌레')\n",
    "starmie = Pokemon(name='아쿠스타', type='물')\n",
    "eevee = Pokemon(name='이브이', type='노멀')\n",
    "pikachu.show_friends()\n",
    "> 피카츄에게는 친구가 없습니다....\n",
    "\n",
    "pikachu.add_friend(butterfree)\n",
    "pikachu.add_friend(starmie)\n",
    "pikachu.show_friends()\n",
    "> 피카츄의 친구들: 버터플, 아쿠스타 (2마리)\n",
    "\n",
    "Pokemon.show_total_pokemon()\n",
    "> 전체 포켓몬: 피카츄, 버터플, 아쿠스타, 이브이(4마리)\n",
    "```"
   ]
  },
  {
   "cell_type": "code",
   "execution_count": 3,
   "metadata": {},
   "outputs": [],
   "source": [
    "class A:\n",
    "    pass"
   ]
  },
  {
   "cell_type": "code",
   "execution_count": 6,
   "metadata": {},
   "outputs": [
    {
     "data": {
      "text/plain": [
       "['__class__',\n",
       " '__delattr__',\n",
       " '__dict__',\n",
       " '__dir__',\n",
       " '__doc__',\n",
       " '__eq__',\n",
       " '__format__',\n",
       " '__ge__',\n",
       " '__getattribute__',\n",
       " '__gt__',\n",
       " '__hash__',\n",
       " '__init__',\n",
       " '__init_subclass__',\n",
       " '__le__',\n",
       " '__lt__',\n",
       " '__module__',\n",
       " '__ne__',\n",
       " '__new__',\n",
       " '__reduce__',\n",
       " '__reduce_ex__',\n",
       " '__repr__',\n",
       " '__setattr__',\n",
       " '__sizeof__',\n",
       " '__str__',\n",
       " '__subclasshook__',\n",
       " '__weakref__']"
      ]
     },
     "execution_count": 6,
     "metadata": {},
     "output_type": "execute_result"
    }
   ],
   "source": [
    "dir(A)"
   ]
  },
  {
   "cell_type": "code",
   "execution_count": 5,
   "metadata": {},
   "outputs": [
    {
     "data": {
      "text/plain": [
       "['__class__',\n",
       " '__delattr__',\n",
       " '__dict__',\n",
       " '__dir__',\n",
       " '__doc__',\n",
       " '__eq__',\n",
       " '__format__',\n",
       " '__ge__',\n",
       " '__getattribute__',\n",
       " '__gt__',\n",
       " '__hash__',\n",
       " '__init__',\n",
       " '__init_subclass__',\n",
       " '__le__',\n",
       " '__lt__',\n",
       " '__module__',\n",
       " '__ne__',\n",
       " '__new__',\n",
       " '__reduce__',\n",
       " '__reduce_ex__',\n",
       " '__repr__',\n",
       " '__setattr__',\n",
       " '__sizeof__',\n",
       " '__str__',\n",
       " '__subclasshook__',\n",
       " '__weakref__']"
      ]
     },
     "execution_count": 5,
     "metadata": {},
     "output_type": "execute_result"
    }
   ],
   "source": [
    "dir(a)"
   ]
  },
  {
   "cell_type": "code",
   "execution_count": null,
   "metadata": {},
   "outputs": [],
   "source": []
  }
 ],
 "metadata": {
  "kernelspec": {
   "display_name": "Python 3",
   "language": "python",
   "name": "python3"
  },
  "language_info": {
   "codemirror_mode": {
    "name": "ipython",
    "version": 3
   },
   "file_extension": ".py",
   "mimetype": "text/x-python",
   "name": "python",
   "nbconvert_exporter": "python",
   "pygments_lexer": "ipython3",
   "version": "3.7.5"
  }
 },
 "nbformat": 4,
 "nbformat_minor": 2
}
